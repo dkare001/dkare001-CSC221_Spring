{
  "nbformat": 4,
  "nbformat_minor": 0,
  "metadata": {
    "colab": {
      "provenance": [],
      "authorship_tag": "ABX9TyOe4o1ryBTm8C+eEHfy+VVJ",
      "include_colab_link": true
    },
    "kernelspec": {
      "name": "python3",
      "display_name": "Python 3"
    },
    "language_info": {
      "name": "python"
    }
  },
  "cells": [
    {
      "cell_type": "markdown",
      "metadata": {
        "id": "view-in-github",
        "colab_type": "text"
      },
      "source": [
        "<a href=\"https://colab.research.google.com/github/dkare001/dkare001-CSC221_Spring/blob/main/Assignment_11.ipynb\" target=\"_parent\"><img src=\"https://colab.research.google.com/assets/colab-badge.svg\" alt=\"Open In Colab\"/></a>"
      ]
    },
    {
      "cell_type": "code",
      "execution_count": null,
      "metadata": {
        "colab": {
          "base_uri": "https://localhost:8080/"
        },
        "id": "PmtqvVWobfMZ",
        "outputId": "edde88e4-96ab-4d50-e381-d44c3a854537"
      },
      "outputs": [
        {
          "output_type": "stream",
          "name": "stdout",
          "text": [
            "My cats name is James.\n",
            "My cats age is 12.\n"
          ]
        }
      ],
      "source": [
        "#self tryout\n",
        "class Cat:\n",
        "  \"models a cat\"\n",
        "  def __init__(self, name, age):\n",
        "    self.name = name\n",
        "    self.age = age\n",
        "\n",
        "  def sit(self):\n",
        "    print(f\"{self.name} is now sitting.\")\n",
        "\n",
        "  def roll_over(self):\n",
        "    print(f\"{self.name} rolled over.\")\n",
        "\n",
        "my_cat = Cat('James', 12)\n",
        "your_cat = Cat('Tom', 1)\n",
        "\n",
        "print(f\"My cats name is {my_cat.name}.\")\n",
        "print(f\"My cats age is {my_cat.age}.\")\n"
      ]
    },
    {
      "cell_type": "code",
      "source": [
        "#9-1 Restaurant\n",
        "class Restaurant:\n",
        "  def __init__(self, name, cuisine_type):\n",
        "    self.name = name\n",
        "    self.cuisine_type = cuisine_type\n",
        "\n",
        "  def open_restaurant(self):\n",
        "    print(f\"{self.name} is opened to serve.\")\n",
        "\n",
        "  def describe_restaurant(self):\n",
        "    print(f\"The restaurants name is, {self.name}.\\nThey serve {self.cuisine_type}.\")\n",
        "\n",
        "restaurant = Restaurant(\"Pizza Hut\", \"Pizzas\")\n",
        "\n",
        "print(f\"The restaurant name is {restaurant.name}.\")\n",
        "print(f\"They serve {restaurant.cuisine_type}.\\n\")\n",
        "\n",
        "restaurant.describe_restaurant()\n",
        "restaurant.open_restaurant()\n",
        "\n"
      ],
      "metadata": {
        "colab": {
          "base_uri": "https://localhost:8080/"
        },
        "id": "RZhDeq_pMbII",
        "outputId": "c4956a49-a8a1-495a-93f9-54c79bbd5514"
      },
      "execution_count": null,
      "outputs": [
        {
          "output_type": "stream",
          "name": "stdout",
          "text": [
            "The restaurant name is Pizza Hut.\n",
            "They serve Pizzas.\n",
            "\n",
            "The restaurants name is, Pizza Hut.\n",
            "They serve Pizzas.\n",
            "Pizza Hut is opened to serve.\n"
          ]
        }
      ]
    },
    {
      "cell_type": "markdown",
      "source": [],
      "metadata": {
        "id": "8kWhxHpAaClZ"
      }
    },
    {
      "cell_type": "code",
      "source": [
        "#9-2. Three Rrestaurants\n",
        "class Restaurant:\n",
        "  def __init__(self, name, cuisine_type):\n",
        "    self.name = name\n",
        "    self.cuisine_type = cuisine_type\n",
        "\n",
        "  def open_restaurant(self):\n",
        "    print(f\"{self.name} is opened to serve.\")\n",
        "\n",
        "  def close_restaurant(self):\n",
        "    print(f\"{self.name} is closed!\")\n",
        "\n",
        "  def customer_rating(self):\n",
        "    input(\"How would you rate this restaurant\")\n",
        "\n",
        "  def describe_restaurant(self):\n",
        "    print(f\"The restaurants name is, {self.name}.\\nThey serve {self.cuisine_type}.\\n\")\n",
        "\n",
        "\n",
        "restaurant = Restaurant(\"Pizza Hut\", \"Pizzas\")\n",
        "favorite_restaurant = Restaurant(\"Cheesecake Factory\", \"Pastas\")\n",
        "worst_restaurant = Restaurant(\"McDonalds\", \"Sandwiches\")\n",
        "\n",
        "\n",
        "restaurant.describe_restaurant()\n",
        "favorite_restaurant.describe_restaurant()\n",
        "worst_restaurant.describe_restaurant()\n",
        "\n",
        "\n"
      ],
      "metadata": {
        "colab": {
          "base_uri": "https://localhost:8080/"
        },
        "id": "9pOxJGjJZx7t",
        "outputId": "26d95917-c936-40db-fa08-b7c5754433e6"
      },
      "execution_count": null,
      "outputs": [
        {
          "output_type": "stream",
          "name": "stdout",
          "text": [
            "The restaurants name is, Pizza Hut.\n",
            "They serve Pizzas.\n",
            "\n",
            "The restaurants name is, Cheesecake Factory.\n",
            "They serve Pastas.\n",
            "\n",
            "The restaurants name is, McDonalds.\n",
            "They serve Sandwiches.\n",
            "\n"
          ]
        }
      ]
    },
    {
      "cell_type": "code",
      "source": [
        "#9-3. Users:\n",
        "class User:\n",
        "  def __init__(self, first_name, last_name, age, gender):\n",
        "    self.first_name = first_name\n",
        "    self.last_name = last_name\n",
        "    self.age = age\n",
        "    self.gender = gender\n",
        "\n",
        "  def greet_user(self):\n",
        "    print(f\"WELCOME! {self.first_name} {self.last_name}\")\n",
        "\n",
        "  def describe_user(self):\n",
        "    print(f\"Info:\\nFirst name: {self.first_name}\\nLast name: {self.last_name}\\nAge: {self.age}\\nGender: {self.gender}\\n\")\n",
        "\n",
        "#Users\n",
        "David = User(\"David\",\"Alonzo\",\"22\",\"Male\")\n",
        "Thomas = User(\"Thomas\",\"Jefferson\",\"44\",\"Male\")\n",
        "Brittany = User(\"Brittany\",\"Long\",\"96\",\"Female\")\n",
        "Gieun = User(\"Gieun\",\"Lee\",\"36\",\"Female\")\n",
        "\n",
        "David.greet_user()\n",
        "David.describe_user()\n",
        "\n",
        "Thomas.greet_user()\n",
        "Thomas.describe_user()\n",
        "\n",
        "Brittany.greet_user()\n",
        "Brittany.describe_user()\n",
        "\n",
        "Gieun.greet_user()\n",
        "Gieun.describe_user()\n",
        "\n",
        "\n",
        "\n",
        "\n",
        "\n",
        "\n",
        "\n"
      ],
      "metadata": {
        "colab": {
          "base_uri": "https://localhost:8080/"
        },
        "id": "jVqLLxF3c2mu",
        "outputId": "c1ff20bb-e373-47c8-e303-4fd82eaa7a00"
      },
      "execution_count": null,
      "outputs": [
        {
          "output_type": "stream",
          "name": "stdout",
          "text": [
            "WELCOME! David Alonzo\n",
            "Info:\n",
            "First name: David\n",
            "Last name: Alonzo\n",
            "Age: 22\n",
            "Gender: Male\n",
            "\n",
            "WELCOME! Thomas Jefferson\n",
            "Info:\n",
            "First name: Thomas\n",
            "Last name: Jefferson\n",
            "Age: 44\n",
            "Gender: Male\n",
            "\n",
            "WELCOME! Brittany Long\n",
            "Info:\n",
            "First name: Brittany\n",
            "Last name: Long\n",
            "Age: 96\n",
            "Gender: Female\n",
            "\n",
            "WELCOME! Gieun Lee\n",
            "Info:\n",
            "First name: Gieun\n",
            "Last name: Lee\n",
            "Age: 36\n",
            "Gender: Female\n",
            "\n"
          ]
        }
      ]
    },
    {
      "cell_type": "code",
      "source": [
        "#Self Tryout\n",
        "class Car:\n",
        "  def __init__(self, make, model, year):\n",
        "    self.make = make\n",
        "    self.model = model\n",
        "    self.year = year\n",
        "    self.odometer_reading = 1000\n",
        "\n",
        "  def get_descriptive_name(self):\n",
        "    long_name = f\"{self.year} {self.make} {self.model}\"\n",
        "    return  long_name.title()\n",
        "\n",
        "  def read_odometer(self):\n",
        "    print(f\"This car has {self.odometer_reading} miles on it.\")\n",
        "\n",
        "my_new_car = Car(\"nissan\", \"altima\", \"2023\")\n",
        "print (my_new_car.get_descriptive_name())\n",
        "my_new_car.read_odometer()"
      ],
      "metadata": {
        "colab": {
          "base_uri": "https://localhost:8080/"
        },
        "id": "OSnhVArs5Smm",
        "outputId": "9b7e4eb5-f881-4a4d-f710-16deaf9c08dc"
      },
      "execution_count": null,
      "outputs": [
        {
          "output_type": "stream",
          "name": "stdout",
          "text": [
            "2023 Nissan Altima\n",
            "This car has 1000 miles on it.\n"
          ]
        }
      ]
    },
    {
      "cell_type": "code",
      "source": [
        "#9-6. Ice Cream Stand: Was not completly sure what\n",
        "\n",
        "class Restaurant:\n",
        "  def __init__(self, name, cuisine_type):\n",
        "    self.name = name\n",
        "    self.cuisine_type = cuisine_type\n",
        "\n",
        "  def open_restaurant(self):\n",
        "    print(f\"{self.name} is opened to serve.\")\n",
        "\n",
        "  def close_restaurant(self):\n",
        "    print(f\"{self.name} is closed!\")\n",
        "\n",
        "  def customer_rating(self):\n",
        "    input(\"How would you rate this restaurant\")\n",
        "\n",
        "  def describe_restaurant(self):\n",
        "    print(f\"The restaurants name is, {self.name}.\\nThey serve {self.cuisine_type}.\\n\")\n",
        "\n",
        "\n",
        "restaurant = Restaurant(\"Pizza Hut\", \"Pizzas\")\n",
        "favorite_restaurant = Restaurant(\"Cheesecake Factory\", \"Pastas\")\n",
        "worst_restaurant = Restaurant(\"McDonalds\", \"Sandwiches\")\n",
        "\n",
        "\n",
        "restaurant.describe_restaurant()\n",
        "favorite_restaurant.describe_restaurant()\n",
        "worst_restaurant.describe_restaurant()\n",
        "\n",
        "class IceCreamStand(Restaurant):\n",
        "\n",
        "  def __init__(self, name, cuisine_type):\n",
        "    super().__init__(name, cuisine_type)\n",
        "    self.flavors = [\"Cherry\"]\n",
        "\n",
        "  def IceCreamFlavors(self):\n",
        "    print(f\"We have these flavors:{self.flavors}\")\n",
        "\n",
        "\n",
        "\n"
      ],
      "metadata": {
        "id": "FBHewJjy_0NU",
        "colab": {
          "base_uri": "https://localhost:8080/"
        },
        "outputId": "af9a75a9-4511-4579-b129-47b9f989e6dc"
      },
      "execution_count": null,
      "outputs": [
        {
          "output_type": "stream",
          "name": "stdout",
          "text": [
            "The restaurants name is, Pizza Hut.\n",
            "They serve Pizzas.\n",
            "\n",
            "The restaurants name is, Cheesecake Factory.\n",
            "They serve Pastas.\n",
            "\n",
            "The restaurants name is, McDonalds.\n",
            "They serve Sandwiches.\n",
            "\n"
          ]
        }
      ]
    },
    {
      "cell_type": "markdown",
      "source": [],
      "metadata": {
        "id": "OzhPAKNXV4j-"
      }
    },
    {
      "cell_type": "code",
      "source": [
        "class User:\n",
        "  def __init__(self, first_name, last_name, age, gender):\n",
        "    self.first_name = first_name\n",
        "    self.last_name = last_name\n",
        "    self.age = age\n",
        "    self.gender = gender\n",
        "\n",
        "  def greet_user(self):\n",
        "    print(f\"WELCOME! {self.first_name} {self.last_name}\")\n",
        "\n",
        "  def describe_user(self):\n",
        "    print(f\"Info:\\nFirst name: {self.first_name}\\nLast name: {self.last_name}\\nAge: {self.age}\\nGender: {self.gender}\\n\")\n",
        "\n",
        "#Users\n",
        "David = User(\"David\",\"Alonzo\",\"22\",\"Male\")\n",
        "Thomas = User(\"Thomas\",\"Jefferson\",\"44\",\"Male\")\n",
        "Brittany = User(\"Brittany\",\"Long\",\"96\",\"Female\")\n",
        "Gieun = User(\"Gieun\",\"Lee\",\"36\",\"Female\")\n",
        "\n",
        "David.greet_user()\n",
        "David.describe_user()\n",
        "\n",
        "Thomas.greet_user()\n",
        "Thomas.describe_user()\n",
        "\n",
        "Brittany.greet_user()\n",
        "Brittany.describe_user()\n",
        "\n",
        "Gieun.greet_user()\n",
        "Gieun.describe_user()\n",
        "\n",
        "class Admin(User):\n",
        "    def __init__(self, first_name, last_name, age, gender):\n",
        "        super().__init__(first_name, last_name, age, gender)\n",
        "        self.privileges = [\"Can add user\", \"Can ban user\"]\n",
        "\n",
        "    def admin_privileges(self):\n",
        "        print(\"Admin privileges:\")\n",
        "        for privilege in self.privileges:\n",
        "            print(f\"- {privilege}\")\n",
        "\n",
        "\n",
        "admin = Admin(\"Kareem\", \"Dares\", \"39\", \"Male\")\n",
        "\n",
        "admin.greet_user()\n",
        "admin.describe_user()\n",
        "admin.admin_privileges()\n"
      ],
      "metadata": {
        "colab": {
          "base_uri": "https://localhost:8080/"
        },
        "id": "orVQkbEeSs4E",
        "outputId": "83856c48-cbd3-4b69-de81-ccd15dfa7fe1"
      },
      "execution_count": null,
      "outputs": [
        {
          "output_type": "stream",
          "name": "stdout",
          "text": [
            "WELCOME! David Alonzo\n",
            "Info:\n",
            "First name: David\n",
            "Last name: Alonzo\n",
            "Age: 22\n",
            "Gender: Male\n",
            "\n",
            "WELCOME! Thomas Jefferson\n",
            "Info:\n",
            "First name: Thomas\n",
            "Last name: Jefferson\n",
            "Age: 44\n",
            "Gender: Male\n",
            "\n",
            "WELCOME! Brittany Long\n",
            "Info:\n",
            "First name: Brittany\n",
            "Last name: Long\n",
            "Age: 96\n",
            "Gender: Female\n",
            "\n",
            "WELCOME! Gieun Lee\n",
            "Info:\n",
            "First name: Gieun\n",
            "Last name: Lee\n",
            "Age: 36\n",
            "Gender: Female\n",
            "\n",
            "WELCOME! Kareem Dares\n",
            "Info:\n",
            "First name: Kareem\n",
            "Last name: Dares\n",
            "Age: 39\n",
            "Gender: Male\n",
            "\n",
            "Admin privileges:\n",
            "- Can add user\n",
            "- Can ban user\n"
          ]
        }
      ]
    }
  ]
}