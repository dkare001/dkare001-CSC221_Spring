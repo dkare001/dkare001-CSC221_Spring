{
  "nbformat": 4,
  "nbformat_minor": 0,
  "metadata": {
    "colab": {
      "provenance": [],
      "authorship_tag": "ABX9TyNj90MYzLl72C4H29tPfmJQ",
      "include_colab_link": true
    },
    "kernelspec": {
      "name": "python3",
      "display_name": "Python 3"
    },
    "language_info": {
      "name": "python"
    }
  },
  "cells": [
    {
      "cell_type": "markdown",
      "metadata": {
        "id": "view-in-github",
        "colab_type": "text"
      },
      "source": [
        "<a href=\"https://colab.research.google.com/github/dkare001/dkare001-CSC221_Spring/blob/main/Week1A.ipynb\" target=\"_parent\"><img src=\"https://colab.research.google.com/assets/colab-badge.svg\" alt=\"Open In Colab\"/></a>"
      ]
    },
    {
      "cell_type": "code",
      "execution_count": null,
      "metadata": {
        "colab": {
          "base_uri": "https://localhost:8080/"
        },
        "id": "AEe5NR-oNxo5",
        "outputId": "855dab3b-3a1a-4f60-c4be-cc478d692579"
      },
      "outputs": [
        {
          "output_type": "stream",
          "name": "stdout",
          "text": [
            "Type in you nameDares\n",
            "Hello, Dares!!\n",
            "51 50\n",
            "52 101\n",
            "53 153\n",
            "54 206\n",
            "55 260\n",
            "56 315\n",
            "57 371\n",
            "58 428\n",
            "59 486\n",
            "244125\n"
          ]
        }
      ],
      "source": [
        "#TYPE IN YOU NAME, I'LL SAY HELLO\n",
        "name = input(\"Type in you name\")\n",
        "print (\"Hello, \" + name + \"!!\")\n",
        "\n",
        "#What is the sum of all numbers from 50 to 70\n",
        "total = 0\n",
        "n = 50\n",
        "while n <= 700:\n",
        "  total = total + n\n",
        "  n = n + 1\n",
        "  if n < 60:\n",
        "    print (n,total)\n",
        "\n",
        "print(total)"
      ]
    }
  ]
}