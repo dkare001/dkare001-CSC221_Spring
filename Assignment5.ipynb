{
  "nbformat": 4,
  "nbformat_minor": 0,
  "metadata": {
    "colab": {
      "provenance": [],
      "authorship_tag": "ABX9TyNmF7fF/IRzM7lJ4tJRuwhO",
      "include_colab_link": true
    },
    "kernelspec": {
      "name": "python3",
      "display_name": "Python 3"
    },
    "language_info": {
      "name": "python"
    }
  },
  "cells": [
    {
      "cell_type": "markdown",
      "metadata": {
        "id": "view-in-github",
        "colab_type": "text"
      },
      "source": [
        "<a href=\"https://colab.research.google.com/github/dkare001/dkare001-CSC221_Spring/blob/main/Assignment5.ipynb\" target=\"_parent\"><img src=\"https://colab.research.google.com/assets/colab-badge.svg\" alt=\"Open In Colab\"/></a>"
      ]
    },
    {
      "cell_type": "code",
      "execution_count": 30,
      "metadata": {
        "colab": {
          "base_uri": "https://localhost:8080/"
        },
        "id": "1Cj7lEVG17B2",
        "outputId": "dc9034bf-92f4-4563-c3ba-fcfaddeb3758"
      },
      "outputs": [
        {
          "output_type": "stream",
          "name": "stdout",
          "text": [
            "Lebron James\n",
            "Lebron James, is a great athlete\n",
            "I am looking to seeing Lebron James play.\n",
            "\n",
            "Ronldo\n",
            "Ronldo, is a great athlete\n",
            "I am looking to seeing Ronldo play.\n",
            "\n",
            "Serena Williams\n",
            "Serena Williams, is a great athlete\n",
            "I am looking to seeing Serena Williams play.\n",
            "\n",
            "Thank you, for the wooonderful performance!\n"
          ]
        }
      ],
      "source": [
        "#Personal try it myself\n",
        "athletes = ['Lebron James','Ronldo','Serena Williams']\n",
        "for athlete in athletes:\n",
        "  print(athlete)\n",
        "  print(f'{athlete.title()}, is a great athlete')\n",
        "  print(f'I am looking to seeing {athlete} play.\\n')\n",
        "\n",
        "print(f'Thank you, for the wooonderful performance!')"
      ]
    },
    {
      "cell_type": "code",
      "source": [
        "celebs = ['jaden smith','will smith','willow smith','jada smith']\n",
        "for celebs in celebs:\n",
        "  print(celebs)"
      ],
      "metadata": {
        "colab": {
          "base_uri": "https://localhost:8080/"
        },
        "id": "WRPGlw2D7HQN",
        "outputId": "ece1c9c1-bf57-45db-fcb4-317a4b9fc75d"
      },
      "execution_count": 16,
      "outputs": [
        {
          "output_type": "stream",
          "name": "stdout",
          "text": [
            "jaden smith\n",
            "will smith\n",
            "willow smith\n",
            "jada smith\n"
          ]
        }
      ]
    },
    {
      "cell_type": "code",
      "source": [
        "#4-1. Pizzas:\n",
        "pizzas = ['Cheese pizza','Beef Pizza','Mushroom Pizza']\n",
        "for pizza in pizzas:\n",
        "  print(pizza)\n",
        "  print(f'I love {pizza}\\n')\n",
        "print('I really love pizzas!')"
      ],
      "metadata": {
        "colab": {
          "base_uri": "https://localhost:8080/"
        },
        "id": "QWBp3Ro__cZF",
        "outputId": "bdac83d1-11f4-477f-f35c-9c38e5cbbe6f"
      },
      "execution_count": 35,
      "outputs": [
        {
          "output_type": "stream",
          "name": "stdout",
          "text": [
            "Cheese pizza\n",
            "I love Cheese pizza\n",
            "\n",
            "Beef Pizza\n",
            "I love Beef Pizza\n",
            "\n",
            "Mushroom Pizza\n",
            "I love Mushroom Pizza\n",
            "\n",
            "I really love pizzas!\n"
          ]
        }
      ]
    },
    {
      "cell_type": "code",
      "source": [
        "#4-2. Animals:\n",
        "mammals = ['dog','cat','whale']\n",
        "for mammal in mammals:\n",
        "  print(f'{mammal}')\n",
        "  print(f\"{mammal}'s are great animals\\n\")\n",
        "print(\"These animals are all mammals\")"
      ],
      "metadata": {
        "colab": {
          "base_uri": "https://localhost:8080/"
        },
        "id": "8HlF9u8aAief",
        "outputId": "93e47b0a-b54c-40a6-c035-05fcf38c41fd"
      },
      "execution_count": 39,
      "outputs": [
        {
          "output_type": "stream",
          "name": "stdout",
          "text": [
            "dog\n",
            "dog's are great animals\n",
            "\n",
            "cat\n",
            "cat's are great animals\n",
            "\n",
            "whale\n",
            "whale's are great animals\n",
            "\n",
            "These animals are all mammals\n"
          ]
        }
      ]
    },
    {
      "cell_type": "code",
      "source": [
        "#4-3. Counting to Twenty:\n",
        "for value in range(1,21):\n",
        "  print(value)"
      ],
      "metadata": {
        "colab": {
          "base_uri": "https://localhost:8080/"
        },
        "id": "SgEd9C5NQtxs",
        "outputId": "ef5821ca-603c-4736-ccf3-1c3797cde94b"
      },
      "execution_count": 9,
      "outputs": [
        {
          "output_type": "stream",
          "name": "stdout",
          "text": [
            "1\n",
            "2\n",
            "3\n",
            "4\n",
            "5\n",
            "6\n",
            "7\n",
            "8\n",
            "9\n",
            "10\n",
            "11\n",
            "12\n",
            "13\n",
            "14\n",
            "15\n",
            "16\n",
            "17\n",
            "18\n",
            "19\n",
            "20\n"
          ]
        }
      ]
    },
    {
      "cell_type": "code",
      "source": [
        "#4-4. One Million:\n",
        "numbers = list(range(1,1000001))\n",
        "print(numbers)"
      ],
      "metadata": {
        "colab": {
          "base_uri": "https://localhost:8080/"
        },
        "id": "0Ws9vPzyRTQO",
        "outputId": "4b1bb41d-660b-452a-b118-da0d2ef99305"
      },
      "execution_count": 12,
      "outputs": [
        {
          "output_type": "stream",
          "name": "stderr",
          "text": [
            "IOPub data rate exceeded.\n",
            "The notebook server will temporarily stop sending output\n",
            "to the client in order to avoid crashing it.\n",
            "To change this limit, set the config variable\n",
            "`--NotebookApp.iopub_data_rate_limit`.\n",
            "\n",
            "Current values:\n",
            "NotebookApp.iopub_data_rate_limit=1000000.0 (bytes/sec)\n",
            "NotebookApp.rate_limit_window=3.0 (secs)\n",
            "\n"
          ]
        }
      ]
    },
    {
      "cell_type": "code",
      "source": [
        "#4-5. Summing a Million:\n",
        "numbers = list(range(1,1000001))\n",
        "print(min(numbers))\n",
        "print(max(numbers))\n",
        "sum(numbers)"
      ],
      "metadata": {
        "colab": {
          "base_uri": "https://localhost:8080/"
        },
        "id": "-867-OSpTJuN",
        "outputId": "33815039-299f-4044-e9ef-3082b475fed7"
      },
      "execution_count": 20,
      "outputs": [
        {
          "output_type": "stream",
          "name": "stdout",
          "text": [
            "1\n",
            "1000000\n"
          ]
        },
        {
          "output_type": "execute_result",
          "data": {
            "text/plain": [
              "500000500000"
            ]
          },
          "metadata": {},
          "execution_count": 20
        }
      ]
    },
    {
      "cell_type": "code",
      "source": [
        "#4-6. Odd Numbers:\n",
        "numbers = list(range(1,21,2))\n",
        "print(numbers)\n",
        "\n",
        "for number in numbers:\n",
        "  print(number)"
      ],
      "metadata": {
        "colab": {
          "base_uri": "https://localhost:8080/"
        },
        "id": "n-PlprJnEq40",
        "outputId": "7e981840-1bb8-4ef8-c73c-939972c141bb"
      },
      "execution_count": 24,
      "outputs": [
        {
          "output_type": "stream",
          "name": "stdout",
          "text": [
            "[1, 3, 5, 7, 9, 11, 13, 15, 17, 19]\n",
            "1\n",
            "3\n",
            "5\n",
            "7\n",
            "9\n",
            "11\n",
            "13\n",
            "15\n",
            "17\n",
            "19\n"
          ]
        }
      ]
    },
    {
      "cell_type": "code",
      "source": [
        "#4-7. Threes:\n",
        "numbers = list(range(3,31,3))\n",
        "for number in numbers:\n",
        "  print(number)"
      ],
      "metadata": {
        "colab": {
          "base_uri": "https://localhost:8080/"
        },
        "id": "SS9OBweTFaHR",
        "outputId": "55a7b075-74bd-4035-89e0-4121f966ef98"
      },
      "execution_count": 34,
      "outputs": [
        {
          "output_type": "stream",
          "name": "stdout",
          "text": [
            "3\n",
            "6\n",
            "9\n",
            "12\n",
            "15\n",
            "18\n",
            "21\n",
            "24\n",
            "27\n",
            "30\n"
          ]
        }
      ]
    },
    {
      "cell_type": "code",
      "source": [
        "#4-8. Cubes:\n",
        "cubes = list(range(1,11,))\n",
        "\n",
        "for cube in cubes:\n",
        "  print(cube**3)"
      ],
      "metadata": {
        "colab": {
          "base_uri": "https://localhost:8080/"
        },
        "id": "ag7M9IVaHgHu",
        "outputId": "a770088f-95f9-4bc0-be1e-409d95acd807"
      },
      "execution_count": 36,
      "outputs": [
        {
          "output_type": "stream",
          "name": "stdout",
          "text": [
            "1\n",
            "8\n",
            "27\n",
            "64\n",
            "125\n",
            "216\n",
            "343\n",
            "512\n",
            "729\n",
            "1000\n"
          ]
        }
      ]
    },
    {
      "cell_type": "code",
      "source": [
        "#4-9. Cube Comprehension:\n",
        "cubes = [value**3 for value in range(1,11)]\n",
        "print(cubes)"
      ],
      "metadata": {
        "colab": {
          "base_uri": "https://localhost:8080/"
        },
        "id": "1CQYOCeLIL-d",
        "outputId": "552db379-daf9-4886-acfa-6d43cee8834e"
      },
      "execution_count": 37,
      "outputs": [
        {
          "output_type": "stream",
          "name": "stdout",
          "text": [
            "[1, 8, 27, 64, 125, 216, 343, 512, 729, 1000]\n"
          ]
        }
      ]
    },
    {
      "cell_type": "code",
      "source": [
        "#Personal tryout\n",
        "students = ['chris','john','jonny','abby','sam']\n",
        "students_in_lab = students[0:4]\n",
        "\n",
        "students_in_lab.append('jessica')\n",
        "students.append('rebecca')\n",
        "\n",
        "print(f'{students[0:6]}\\n')\n",
        "print(\"Here are the students in my classs\")\n",
        "\n",
        "\n",
        "for student in students[0:3]:\n",
        "  print(student.title())\n",
        "\n",
        "print(students)\n",
        "print(students_in_lab)"
      ],
      "metadata": {
        "colab": {
          "base_uri": "https://localhost:8080/"
        },
        "id": "KKYrsDl-LonU",
        "outputId": "868b17a6-56ac-4562-c78e-7be515ab9484"
      },
      "execution_count": 77,
      "outputs": [
        {
          "output_type": "stream",
          "name": "stdout",
          "text": [
            "['chris', 'john', 'jonny', 'abby', 'sam', 'rebecca']\n",
            "\n",
            "Here are the students in my classs\n",
            "Chris\n",
            "John\n",
            "Jonny\n",
            "['chris', 'john', 'jonny', 'abby', 'sam', 'rebecca']\n",
            "['chris', 'john', 'jonny', 'abby', 'jessica']\n"
          ]
        }
      ]
    },
    {
      "cell_type": "code",
      "source": [
        "#4-10. Slices:\n",
        "students = ['chris','john','jonny','abby','sam']\n",
        "\n",
        "print(f'The firt three items in the list are {students[0:3]}')\n",
        "print(f'The three items in the middle of the list are {students[1:4]}')\n",
        "print(f'The last three items in the list are {students[-3:]}')"
      ],
      "metadata": {
        "colab": {
          "base_uri": "https://localhost:8080/"
        },
        "id": "rSwARkSaSsJe",
        "outputId": "d50f5215-d965-46e0-e184-980f2fb44dbe"
      },
      "execution_count": 91,
      "outputs": [
        {
          "output_type": "stream",
          "name": "stdout",
          "text": [
            "The firt three items in the list are ['chris', 'john', 'jonny']\n",
            "The three items in the middle of the list are ['john', 'jonny', 'abby']\n",
            "The last three items in the list are ['jonny', 'abby', 'sam']\n"
          ]
        }
      ]
    },
    {
      "cell_type": "code",
      "source": [
        "#4-11. My Pizzas, Your Pizzas:\n",
        "pizzas = ['Cheese pizza','Beef Pizza','Mushroom Pizza']\n",
        "friend_pizzas = pizzas[:]\n",
        "\n",
        "pizzas.append('Chicken Pizza')\n",
        "friend_pizzas.append('Veggie Pizza')\n",
        "\n",
        "print(friend_pizzas)\n",
        "print(pizzas)\n",
        "\n",
        "for pizza in pizzas:\n",
        "  print(f'My favorite pizzas are {pizzas}')\n",
        "  print(f' My favorite pizzs are {friend_pizzas}')\n"
      ],
      "metadata": {
        "colab": {
          "base_uri": "https://localhost:8080/"
        },
        "id": "ksEt7iyUUDtG",
        "outputId": "1f55769a-e6e0-4df7-a7a7-a299d93005ab"
      },
      "execution_count": 107,
      "outputs": [
        {
          "output_type": "stream",
          "name": "stdout",
          "text": [
            "['Cheese pizza', 'Beef Pizza', 'Mushroom Pizza', 'Veggie Pizza']\n",
            "['Cheese pizza', 'Beef Pizza', 'Mushroom Pizza', 'Chicken Pizza']\n",
            "My favorite pizzas are ['Cheese pizza', 'Beef Pizza', 'Mushroom Pizza', 'Chicken Pizza']\n",
            " My favorite pizzs are ['Cheese pizza', 'Beef Pizza', 'Mushroom Pizza', 'Veggie Pizza']\n",
            "My favorite pizzas are ['Cheese pizza', 'Beef Pizza', 'Mushroom Pizza', 'Chicken Pizza']\n",
            " My favorite pizzs are ['Cheese pizza', 'Beef Pizza', 'Mushroom Pizza', 'Veggie Pizza']\n",
            "My favorite pizzas are ['Cheese pizza', 'Beef Pizza', 'Mushroom Pizza', 'Chicken Pizza']\n",
            " My favorite pizzs are ['Cheese pizza', 'Beef Pizza', 'Mushroom Pizza', 'Veggie Pizza']\n",
            "My favorite pizzas are ['Cheese pizza', 'Beef Pizza', 'Mushroom Pizza', 'Chicken Pizza']\n",
            " My favorite pizzs are ['Cheese pizza', 'Beef Pizza', 'Mushroom Pizza', 'Veggie Pizza']\n"
          ]
        }
      ]
    },
    {
      "cell_type": "code",
      "source": [
        "#4-12. More Loops:\n",
        "pizzas = ['Cheese pizza','Beef Pizza','Mushroom Pizza']\n",
        "friend_pizzas = pizzas[:]\n",
        "\n",
        "pizzas.append('Chicken Pizza')\n",
        "friend_pizzas.append('Veggie Pizza')\n",
        "\n",
        "print(friend_pizzas)\n",
        "print(pizzas)\n",
        "\n",
        "for pizza in pizzas:\n",
        "  print(f'My favorite pizzas are {pizza}\\n')\n",
        "\n",
        "for friend_pizza in friend_pizzas:\n",
        "  print(f'My favorite pizzs are {friend_pizza}\\n')"
      ],
      "metadata": {
        "colab": {
          "base_uri": "https://localhost:8080/"
        },
        "id": "2u8OxQ8tXt9v",
        "outputId": "c8fa2530-a2d2-4097-cdc6-4801e95b4662"
      },
      "execution_count": 112,
      "outputs": [
        {
          "output_type": "stream",
          "name": "stdout",
          "text": [
            "['Cheese pizza', 'Beef Pizza', 'Mushroom Pizza', 'Veggie Pizza']\n",
            "['Cheese pizza', 'Beef Pizza', 'Mushroom Pizza', 'Chicken Pizza']\n",
            "My favorite pizzas are Cheese pizza\n",
            "\n",
            "My favorite pizzas are Beef Pizza\n",
            "\n",
            "My favorite pizzas are Mushroom Pizza\n",
            "\n",
            "My favorite pizzas are Chicken Pizza\n",
            "\n",
            "My favorite pizzs are Cheese pizza\n",
            "\n",
            "My favorite pizzs are Beef Pizza\n",
            "\n",
            "My favorite pizzs are Mushroom Pizza\n",
            "\n",
            "My favorite pizzs are Veggie Pizza\n",
            "\n"
          ]
        }
      ]
    },
    {
      "cell_type": "code",
      "source": [
        "#4-13. Buffet:\n",
        "foods = ('shrimp','chicken','fish','beef','pork')\n",
        "for food in foods:\n",
        "  print(food.title())\n",
        "\n",
        "foods = ('lamb','chicken','salmon','beef','pork')\n",
        "for food in foods:\n",
        "  print(f'\\n{food.title()}')"
      ],
      "metadata": {
        "colab": {
          "base_uri": "https://localhost:8080/"
        },
        "id": "FO__dAKnf75g",
        "outputId": "fbb5dec4-d894-4acb-e2e1-f889d8564ae5"
      },
      "execution_count": 120,
      "outputs": [
        {
          "output_type": "stream",
          "name": "stdout",
          "text": [
            "Shrimp\n",
            "Chicken\n",
            "Fish\n",
            "Beef\n",
            "Pork\n",
            "\n",
            "Lamb\n",
            "\n",
            "Chicken\n",
            "\n",
            "Salmon\n",
            "\n",
            "Beef\n",
            "\n",
            "Pork\n"
          ]
        }
      ]
    },
    {
      "cell_type": "code",
      "source": [
        "#4-15. Code Review:\n",
        "\n",
        "#Original buffet foods\n",
        "foods = ('shrimp','chicken','fish','beef','pork')\n",
        "for food in foods:\n",
        "  print(food.title())\n",
        "\n",
        "#Altered buffet foods\n",
        "foods = ('lamb','chicken','salmon','beef','pork')\n",
        "for food in foods:\n",
        "  print(f'\\n{food.title()}')\n",
        "\n",
        "#Items in friends pizza and pizzas\n",
        "pizzas = ['Cheese pizza','Beef Pizza','Mushroom Pizza']\n",
        "friend_pizzas = pizzas[:]\n",
        "pizzas.append('Chicken Pizza')\n",
        "friend_pizzas.append('Veggie Pizza')\n",
        "\n",
        "#printed items in both pizza lists\n",
        "print(friend_pizzas)\n",
        "print(pizzas)\n",
        "\n",
        "#message for list in pizzas\n",
        "for pizza in pizzas:\n",
        "  print(f'My favorite pizzas are {pizza}\\n')\n",
        "\n",
        "#message for lists in friends pizza\n",
        "for friend_pizza in friend_pizzas:\n",
        "  print(f'My favorite pizzs are {friend_pizza}\\n')"
      ],
      "metadata": {
        "colab": {
          "base_uri": "https://localhost:8080/"
        },
        "id": "SlZ5HkTriNGm",
        "outputId": "e6acf52e-8363-41df-e6d4-5a7ee28ddde6"
      },
      "execution_count": 121,
      "outputs": [
        {
          "output_type": "stream",
          "name": "stdout",
          "text": [
            "Shrimp\n",
            "Chicken\n",
            "Fish\n",
            "Beef\n",
            "Pork\n",
            "\n",
            "Lamb\n",
            "\n",
            "Chicken\n",
            "\n",
            "Salmon\n",
            "\n",
            "Beef\n",
            "\n",
            "Pork\n"
          ]
        }
      ]
    },
    {
      "cell_type": "code",
      "source": [
        "#Question 2\n",
        "def factorial(n):\n",
        "    numbers = list(range(1, n + 1))\n",
        "    product = 1\n",
        "    for number in numbers:\n",
        "        product *= number\n",
        "    return product\n",
        "\n",
        "print(factorial(5))\n",
        "print(factorial(10))\n",
        "print(factorial(20))\n",
        "print(factorial(50))\n",
        "\n",
        "#Question 3\n",
        "def special_factorial(n):\n",
        "    numbers = list(range(1, n + 1))\n",
        "\n",
        "    for num in [4, 13, 22]:\n",
        "        if num in numbers:\n",
        "            numbers.remove(num)\n",
        "\n",
        "    product = 1\n",
        "    for number in numbers:\n",
        "        product *= number\n",
        "    return product\n",
        "\n",
        "print(special_factorial(5))\n",
        "print(special_factorial(10))\n",
        "print(special_factorial(20))\n",
        "print(special_factorial(50))"
      ],
      "metadata": {
        "colab": {
          "base_uri": "https://localhost:8080/"
        },
        "id": "nnKM_O7XjlC7",
        "outputId": "8bda2e47-e317-4b86-cd55-7ef513240a90"
      },
      "execution_count": 146,
      "outputs": [
        {
          "output_type": "stream",
          "name": "stdout",
          "text": [
            "120\n",
            "3628800\n",
            "2432902008176640000\n",
            "30414093201713378043612608166064768844377641568960512000000000000\n",
            "30\n",
            "907200\n",
            "46786577080320000\n",
            "26585745805693512275885146998308364374455980392448000000000000\n"
          ]
        }
      ]
    }
  ]
}