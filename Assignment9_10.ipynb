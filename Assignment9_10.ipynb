{
  "nbformat": 4,
  "nbformat_minor": 0,
  "metadata": {
    "colab": {
      "provenance": [],
      "authorship_tag": "ABX9TyO19fc4xUHVPxj9XjXcQfc4",
      "include_colab_link": true
    },
    "kernelspec": {
      "name": "python3",
      "display_name": "Python 3"
    },
    "language_info": {
      "name": "python"
    }
  },
  "cells": [
    {
      "cell_type": "markdown",
      "metadata": {
        "id": "view-in-github",
        "colab_type": "text"
      },
      "source": [
        "<a href=\"https://colab.research.google.com/github/dkare001/dkare001-CSC221_Spring/blob/main/Assignment9_10.ipynb\" target=\"_parent\"><img src=\"https://colab.research.google.com/assets/colab-badge.svg\" alt=\"Open In Colab\"/></a>"
      ]
    },
    {
      "cell_type": "code",
      "execution_count": null,
      "metadata": {
        "id": "l9dRUxoyqtiM"
      },
      "outputs": [],
      "source": [
        "#Funtion #1 Age Calculator\n",
        "\n",
        "def age_calc(birth_year,current_year = 2024):\n",
        "  age = int(current_year) - int(birth_year)\n",
        "  print(f'In the year,{current_year}, you will be {age}. ')\n",
        "age_calc(2003)\n",
        "age_calc(2003, 2026)\n",
        "\n",
        "\n"
      ]
    },
    {
      "cell_type": "code",
      "source": [
        "#Function #2 Caloorie Tracker\n",
        "\n",
        "\n",
        "#Created a function containing the general average caloric intake.\n",
        "def calories_track(calories_today):\n",
        "    try:\n",
        "        if calories_today > 2500:\n",
        "            print(f'Hey {name.title()}, you have exceeded your required calorie intake for the day.')\n",
        "        elif calories_today < 2500:\n",
        "            print(f\"Hey {name.title()}, you haven't met your required calorie intake for the day.\")\n",
        "        else:\n",
        "            print(f\"Hey {name.title()}, you have met the required daily calorie intake.\")\n",
        "    except ValueError:\n",
        "        print(\"Please input an integer.\")\n",
        "\n",
        "name = input('Hello, welcome to my calorie tracker. What is your name? ')\n",
        "\n",
        "while True:\n",
        "    try:\n",
        "        calories_today = int(input('How many calories have you had today? '))\n",
        "        calories_track(calories_today)\n",
        "        break\n",
        "    except ValueError:\n",
        "        print(\"Please input an integer.\")\n",
        "\n"
      ],
      "metadata": {
        "id": "P-RlNDZ2tFqE"
      },
      "execution_count": null,
      "outputs": []
    },
    {
      "cell_type": "code",
      "source": [
        "#Function #3 Rock, Paper, Scissors\n",
        "import random\n",
        "elements = ['Rock', 'Paper', 'Scissors']\n",
        "guess = input('Rock, Paper, Scissors shoot! ').title()\n",
        "random_element = random.choice(elements)\n",
        "\n",
        "#contains code for the rock paper scissors basically determining whether you won or not\n",
        "def rps_game():\n",
        "  if guess.title() in elements:\n",
        "      if random_element == guess.title():\n",
        "          print(\"It's a Tie!\")\n",
        "      elif (random_element == 'Rock' and guess.title() == 'Scissors') or \\\n",
        "          (random_element == 'Scissors' and guess.title() == 'Paper') or \\\n",
        "          (random_element == 'Paper' and guess.title() == 'Rock'):\n",
        "          print('I Won!')\n",
        "      else:\n",
        "          print(\"You Won!\")\n",
        "  else:\n",
        "      print('Invalid input. Please choose Rock, Paper, or Scissors.')\n",
        "\n",
        "# Display choices\n",
        "print(f\"You chose {guess.title()} and I chose {random_element}!\")\n",
        "\n",
        "\n",
        "\n",
        "rps_game()\n",
        "\n",
        "\n"
      ],
      "metadata": {
        "colab": {
          "base_uri": "https://localhost:8080/"
        },
        "id": "EebK_HKS4vdP",
        "outputId": "d9a44291-cf19-48ae-acb5-10518c70a1cb"
      },
      "execution_count": null,
      "outputs": [
        {
          "output_type": "stream",
          "name": "stdout",
          "text": [
            "Rock, Paper, Scissors shoot! j\n",
            "You chose J and I chose Scissors!\n",
            "Invalid input. Please choose Rock, Paper, or Scissors.\n"
          ]
        }
      ]
    },
    {
      "cell_type": "code",
      "source": [
        "#Function #4 Random Passwords #Used help from online source.\n",
        "import random\n",
        "import string\n",
        "\n",
        "#created a function that comes up what goes in the password\n",
        "def generate_random_password(length=10):\n",
        "  #including what I want the password to contain\n",
        "    characters = string.ascii_letters + string.punctuation + string.digits\n",
        "    password = ''.join(random.choice(characters) for _ in range(length))\n",
        "    return password\n",
        "\n",
        "random_password = generate_random_password()\n",
        "print(\"Random Password:\", random_password)\n"
      ],
      "metadata": {
        "id": "hlet2qmVurJW",
        "colab": {
          "base_uri": "https://localhost:8080/"
        },
        "outputId": "7f1bb537-bb95-463b-9634-ffe514b0b8f2"
      },
      "execution_count": null,
      "outputs": [
        {
          "output_type": "stream",
          "name": "stdout",
          "text": [
            "Random Password: C\\qeNy#d2Z\n"
          ]
        }
      ]
    },
    {
      "cell_type": "code",
      "source": [
        "#funtion #5\n",
        "#created a funtion that keeps you updated on you baterry level by returing different values basedon the batttery level\n",
        "def check_battery(battery_level):\n",
        "    if battery_level <= 10:\n",
        "        return 'Critically Low'\n",
        "    elif battery_level <= 30:\n",
        "        return 'Low'\n",
        "    elif battery_level <= 50:\n",
        "        return 'Moderate'\n",
        "    elif battery_level <= 80:\n",
        "        return 'Good'\n",
        "    elif battery_level <= 95:\n",
        "        return 'Almost Fully Charged'\n",
        "    else:\n",
        "        return 'Fully Charged'\n",
        "#takes user input/ battery level\n",
        "battery_level = int(input('Enter your phone battery level: '))\n",
        "#prints the return\n",
        "print(f'Your phone battery is {check_battery(battery_level)}.')\n"
      ],
      "metadata": {
        "colab": {
          "base_uri": "https://localhost:8080/"
        },
        "id": "t1-IQPUMw0M2",
        "outputId": "174bf031-a625-47b5-f63b-d820000f4fe2"
      },
      "execution_count": null,
      "outputs": [
        {
          "output_type": "stream",
          "name": "stdout",
          "text": [
            "Enter your phone battery level (percentage): 77\n",
            "Your phone battery is Good.\n"
          ]
        }
      ]
    },
    {
      "cell_type": "code",
      "source": [
        "#function #6 Student attendnce tracker//  received help from online\n",
        "\n",
        "def enter_class(class_dict, student_name):\n",
        "    class_dict[student_name] = class_dict.get(student_name, 0) + 1\n",
        "\n",
        "# Sort the students based on the number of times they've entered the class (descending order)\n",
        "def display_sorted_students(class_dict):\n",
        "    sorted_students = sorted(class_dict.items(), key=lambda x: x[1], reverse=True)\n",
        "\n",
        "    #Display the sorted list of students\n",
        "    print(\"Students entered the class (sorted by frequency):\")\n",
        "    for student, count in sorted_students:\n",
        "        print(f\"{student}: {count} times\")\n",
        "\n",
        "def main():\n",
        "    class_attendance = {}  # Dictionary to store class attendance\n",
        "\n",
        "    while True:\n",
        "        # Ask the user for the student's name who entered the class\n",
        "        student_name = input(\"Enter the student's name who entered the class (or 'q' to quit): \").strip()\n",
        "\n",
        "        # Check if the user wants to quit\n",
        "        if student_name.lower() == 'q':\n",
        "            break\n",
        "\n",
        "        # Update class attendance\n",
        "        enter_class(class_attendance, student_name)\n",
        "\n",
        "    # Display sorted students\n",
        "    display_sorted_students(class_attendance)\n",
        "\n",
        "if __name__ == \"__main__\":\n",
        "    main()\n"
      ],
      "metadata": {
        "colab": {
          "base_uri": "https://localhost:8080/"
        },
        "id": "yHs9LJ-Dw3od",
        "outputId": "41d2486a-38e3-4bae-83ac-1d3922b34e7f"
      },
      "execution_count": null,
      "outputs": [
        {
          "output_type": "stream",
          "name": "stdout",
          "text": [
            "Enter the student's name who entered the class (or 'q' to quit): Dares\n",
            "Enter the student's name who entered the class (or 'q' to quit): James\n",
            "Enter the student's name who entered the class (or 'q' to quit): wade\n",
            "Enter the student's name who entered the class (or 'q' to quit): jamal\n",
            "Enter the student's name who entered the class (or 'q' to quit): abby\n",
            "Enter the student's name who entered the class (or 'q' to quit): gabe\n",
            "Enter the student's name who entered the class (or 'q' to quit): zuri\n",
            "Enter the student's name who entered the class (or 'q' to quit): q\n",
            "Students entered the class (sorted by frequency):\n",
            "Dares: 1 times\n",
            "James: 1 times\n",
            "wade: 1 times\n",
            "jamal: 1 times\n",
            "abby: 1 times\n",
            "gabe: 1 times\n",
            "zuri: 1 times\n"
          ]
        }
      ]
    },
    {
      "cell_type": "code",
      "source": [
        "#function #7 grade calculation.\n",
        "\n",
        "#creating a function to calculate the total, average, highest, lowest and sorted scores that the useer will provide.\n",
        "def calc_grade(scores):\n",
        "    total_score = sum(scores)\n",
        "    average_score = total_score / len(scores)\n",
        "    sorted_scores = sorted(scores, reverse=True)\n",
        "    highest_score = sorted_scores[0]\n",
        "    lowest_score = sorted_scores[-1]\n",
        "\n",
        "    return total_score, average_score, highest_score, lowest_score\n",
        "\n",
        "# running using example grades\n",
        "scores = [70, 92, 66, 95, 78]\n",
        "total, average, highest, lowest = calc_grade(scores)\n",
        "print(f\"Total score: {total}\")\n",
        "print(f\"Average score: {average}\")\n",
        "print(f\"Highest score: {highest}\")\n",
        "print(f\"Lowest score: {lowest}\")\n"
      ],
      "metadata": {
        "colab": {
          "base_uri": "https://localhost:8080/"
        },
        "id": "oUtMtQcxfrqM",
        "outputId": "2f6b908b-8eab-4a88-8516-e20793a21937"
      },
      "execution_count": null,
      "outputs": [
        {
          "output_type": "stream",
          "name": "stdout",
          "text": [
            "Total score: 401\n",
            "Average score: 80.2\n",
            "Highest score: 95\n",
            "Lowest score: 66\n"
          ]
        }
      ]
    },
    {
      "cell_type": "code",
      "source": [
        "#function #8 Info on my favorite music artits.\n",
        "#created a dictionary wth the information of  my favorite artits.\n",
        "artists = {\n",
        "    'Drake': {'genre': 'Hip-Hop/R&B', 'country': 'Canada', 'fact': 'Known for hits like \"Hotline Bling\" and \"Gods Plan\".'},\n",
        "    'Burna Boy': {'genre': 'Afrobeat', 'country': 'Nigeria', 'fact': 'Won the Grammy Award for Best Global Music Album.'},\n",
        "    'Kendrick Lamar': {'genre': 'Hip-Hop', 'country': 'USA', 'fact': 'Received the Pulitzer Prize for Music.'}\n",
        "}\n",
        "\n",
        "#created a loop that prints out the informations of the artitst\n",
        "for artist in artists:\n",
        "    print(f'{artist}:\\n')\n",
        "    artist_info = artists[artist]\n",
        "    for info in artist_info:\n",
        "        print(f'{info.capitalize()}: {artist_info[info]}\\n')\n"
      ],
      "metadata": {
        "colab": {
          "base_uri": "https://localhost:8080/"
        },
        "id": "pDIVpujIjfcj",
        "outputId": "a9857bed-88e7-4591-ee21-78f3e64f4f36"
      },
      "execution_count": null,
      "outputs": [
        {
          "output_type": "stream",
          "name": "stdout",
          "text": [
            "Drake:\n",
            "\n",
            "Genre: Hip-Hop/R&B\n",
            "\n",
            "Country: Canada\n",
            "\n",
            "Fact: Known for hits like \"Hotline Bling\" and \"Gods Plan\".\n",
            "\n",
            "Burna Boy:\n",
            "\n",
            "Genre: Afrobeat\n",
            "\n",
            "Country: Nigeria\n",
            "\n",
            "Fact: Won the Grammy Award for Best Global Music Album.\n",
            "\n",
            "Kendrick Lamar:\n",
            "\n",
            "Genre: Hip-Hop\n",
            "\n",
            "Country: USA\n",
            "\n",
            "Fact: Received the Pulitzer Prize for Music.\n",
            "\n"
          ]
        }
      ]
    },
    {
      "cell_type": "code",
      "source": [
        "# Funtion #9 TA meeting scheduler with help\n",
        "#Creating a funtion called display menu allowing the usert to choose options to schedule meetings.\n",
        "def display_menu():\n",
        "    print(\"\\nTA Meeting Schedule Manager\")\n",
        "    print(\"1. Schedule Meeting\")\n",
        "    print(\"2. View Meetings\")\n",
        "    print(\"3. Mark Meeting as Completed\")\n",
        "    print(\"4. Delete Meeting\")\n",
        "    print(\"5. Exit\")#\n",
        "\n",
        "#Created a fuction that allows the computer to store/schedule the students name and uses pending to show that the meeting is not done.\n",
        "def schedule_meeting(meetings):\n",
        "    student_name = input(\"Enter student's name: \")\n",
        "    meetings[student_name] = \"Pending\"\n",
        "    print(\"Meeting scheduled successfully!\")\n",
        "\n",
        "#fuction created to make the user be able to check what meetings they have scheduled\n",
        "def view_meetings(meetings):\n",
        "    if not meetings:\n",
        "        print(\"No meetings scheduled.\")\n",
        "    else:\n",
        "        print(\"\\nScheduled Meetings:\")\n",
        "        for index, (student_name, status) in enumerate(meetings.items(), 1):\n",
        "            print(f\"{index}. [{status}] {student_name}\")\n",
        "\n",
        "#allows the user to vewi meetings and select a meeting to be marked as complete and updates the meetings dictionary\n",
        "def mark_meeting_completed(meetings):\n",
        "    view_meetings(meetings)\n",
        "    meeting_number = int(input(\"Enter the meeting number to mark as completed: \"))\n",
        "    if meeting_number in range(1, len(meetings) + 1):\n",
        "        student_to_mark = list(meetings.keys())[meeting_number - 1]\n",
        "        meetings[student_to_mark] = \"Completed\"\n",
        "        print(f\"Meeting with '{student_to_mark}' marked as completed.\")\n",
        "    else:\n",
        "        print(\"Invalid meeting number.\")\n",
        "# funtion to remove an appointment similar to the mark_meeting completed.\n",
        "def delete_meeting(meetings):\n",
        "    view_meetings(meetings)\n",
        "    meeting_number = int(input(\"Enter the meeting number to delete: \"))\n",
        "    if meeting_number in range(1, len(meetings) + 1):\n",
        "        student_to_delete = list(meetings.keys())[meeting_number - 1]\n",
        "        del meetings[student_to_delete]\n",
        "        print(f\"Meeting with '{student_to_delete}' deleted.\")\n",
        "    else:\n",
        "        print(\"Invalid meeting number.\")\n",
        "#created a function loop to   exectue the funtions based on the users input.\n",
        "def main():\n",
        "    meetings = {}\n",
        "    while True:\n",
        "        display_menu()\n",
        "        choice = input(\"Enter your choice: \")\n",
        "\n",
        "        if choice == '1':\n",
        "            schedule_meeting(meetings)\n",
        "        elif choice == '2':\n",
        "            view_meetings(meetings)\n",
        "        elif choice == '3':\n",
        "            mark_meeting_completed(meetings)\n",
        "        elif choice == '4':\n",
        "            delete_meeting(meetings)\n",
        "        elif choice == '5':\n",
        "            print(\"Exiting...\")\n",
        "            break\n",
        "        else:\n",
        "            print(\"Invalid choice. Please try again.\")\n",
        "\n",
        "if __name__ == \"__main__\":\n",
        "    main()"
      ],
      "metadata": {
        "colab": {
          "base_uri": "https://localhost:8080/",
          "height": 1000
        },
        "id": "4OPRRyZFmC4B",
        "outputId": "716ba36c-13d3-4e06-9e1a-3c38fa571d62"
      },
      "execution_count": null,
      "outputs": [
        {
          "output_type": "stream",
          "name": "stdout",
          "text": [
            "\n",
            "TA Meeting Schedule Manager\n",
            "1. Schedule Meeting\n",
            "2. View Meetings\n",
            "3. Mark Meeting as Completed\n",
            "4. Delete Meeting\n",
            "5. Exit\n",
            "Enter your choice: 4\n",
            "No meetings scheduled.\n",
            "Enter the meeting number to delete: 1\n",
            "Invalid meeting number.\n",
            "\n",
            "TA Meeting Schedule Manager\n",
            "1. Schedule Meeting\n",
            "2. View Meetings\n",
            "3. Mark Meeting as Completed\n",
            "4. Delete Meeting\n",
            "5. Exit\n",
            "Enter your choice: 1\n",
            "Enter student's name: Dares\n",
            "Meeting scheduled successfully!\n",
            "\n",
            "TA Meeting Schedule Manager\n",
            "1. Schedule Meeting\n",
            "2. View Meetings\n",
            "3. Mark Meeting as Completed\n",
            "4. Delete Meeting\n",
            "5. Exit\n",
            "Enter your choice: 2\n",
            "\n",
            "Scheduled Meetings:\n",
            "1. [Pending] Dares\n",
            "\n",
            "TA Meeting Schedule Manager\n",
            "1. Schedule Meeting\n",
            "2. View Meetings\n",
            "3. Mark Meeting as Completed\n",
            "4. Delete Meeting\n",
            "5. Exit\n",
            "Enter your choice: 3\n",
            "\n",
            "Scheduled Meetings:\n",
            "1. [Pending] Dares\n",
            "Enter the meeting number to mark as completed: 1\n",
            "Meeting with 'Dares' marked as completed.\n",
            "\n",
            "TA Meeting Schedule Manager\n",
            "1. Schedule Meeting\n",
            "2. View Meetings\n",
            "3. Mark Meeting as Completed\n",
            "4. Delete Meeting\n",
            "5. Exit\n",
            "Enter your choice: 2\n",
            "\n",
            "Scheduled Meetings:\n",
            "1. [Completed] Dares\n",
            "\n",
            "TA Meeting Schedule Manager\n",
            "1. Schedule Meeting\n",
            "2. View Meetings\n",
            "3. Mark Meeting as Completed\n",
            "4. Delete Meeting\n",
            "5. Exit\n",
            "Enter your choice: 4\n",
            "\n",
            "Scheduled Meetings:\n",
            "1. [Completed] Dares\n",
            "Enter the meeting number to delete: 1\n",
            "Meeting with 'Dares' deleted.\n",
            "\n",
            "TA Meeting Schedule Manager\n",
            "1. Schedule Meeting\n",
            "2. View Meetings\n",
            "3. Mark Meeting as Completed\n",
            "4. Delete Meeting\n",
            "5. Exit\n",
            "Enter your choice: 2\n",
            "No meetings scheduled.\n",
            "\n",
            "TA Meeting Schedule Manager\n",
            "1. Schedule Meeting\n",
            "2. View Meetings\n",
            "3. Mark Meeting as Completed\n",
            "4. Delete Meeting\n",
            "5. Exit\n"
          ]
        },
        {
          "output_type": "error",
          "ename": "KeyboardInterrupt",
          "evalue": "Interrupted by user",
          "traceback": [
            "\u001b[0;31m---------------------------------------------------------------------------\u001b[0m",
            "\u001b[0;31mKeyboardInterrupt\u001b[0m                         Traceback (most recent call last)",
            "\u001b[0;32m<ipython-input-48-301192d92310>\u001b[0m in \u001b[0;36m<cell line: 67>\u001b[0;34m()\u001b[0m\n\u001b[1;32m     66\u001b[0m \u001b[0;34m\u001b[0m\u001b[0m\n\u001b[1;32m     67\u001b[0m \u001b[0;32mif\u001b[0m \u001b[0m__name__\u001b[0m \u001b[0;34m==\u001b[0m \u001b[0;34m\"__main__\"\u001b[0m\u001b[0;34m:\u001b[0m\u001b[0;34m\u001b[0m\u001b[0;34m\u001b[0m\u001b[0m\n\u001b[0;32m---> 68\u001b[0;31m     \u001b[0mmain\u001b[0m\u001b[0;34m(\u001b[0m\u001b[0;34m)\u001b[0m\u001b[0;34m\u001b[0m\u001b[0;34m\u001b[0m\u001b[0m\n\u001b[0m",
            "\u001b[0;32m<ipython-input-48-301192d92310>\u001b[0m in \u001b[0;36mmain\u001b[0;34m()\u001b[0m\n\u001b[1;32m     49\u001b[0m     \u001b[0;32mwhile\u001b[0m \u001b[0;32mTrue\u001b[0m\u001b[0;34m:\u001b[0m\u001b[0;34m\u001b[0m\u001b[0;34m\u001b[0m\u001b[0m\n\u001b[1;32m     50\u001b[0m         \u001b[0mdisplay_menu\u001b[0m\u001b[0;34m(\u001b[0m\u001b[0;34m)\u001b[0m\u001b[0;34m\u001b[0m\u001b[0;34m\u001b[0m\u001b[0m\n\u001b[0;32m---> 51\u001b[0;31m         \u001b[0mchoice\u001b[0m \u001b[0;34m=\u001b[0m \u001b[0minput\u001b[0m\u001b[0;34m(\u001b[0m\u001b[0;34m\"Enter your choice: \"\u001b[0m\u001b[0;34m)\u001b[0m\u001b[0;34m\u001b[0m\u001b[0;34m\u001b[0m\u001b[0m\n\u001b[0m\u001b[1;32m     52\u001b[0m \u001b[0;34m\u001b[0m\u001b[0m\n\u001b[1;32m     53\u001b[0m         \u001b[0;32mif\u001b[0m \u001b[0mchoice\u001b[0m \u001b[0;34m==\u001b[0m \u001b[0;34m'1'\u001b[0m\u001b[0;34m:\u001b[0m\u001b[0;34m\u001b[0m\u001b[0;34m\u001b[0m\u001b[0m\n",
            "\u001b[0;32m/usr/local/lib/python3.10/dist-packages/ipykernel/kernelbase.py\u001b[0m in \u001b[0;36mraw_input\u001b[0;34m(self, prompt)\u001b[0m\n\u001b[1;32m    849\u001b[0m                 \u001b[0;34m\"raw_input was called, but this frontend does not support input requests.\"\u001b[0m\u001b[0;34m\u001b[0m\u001b[0;34m\u001b[0m\u001b[0m\n\u001b[1;32m    850\u001b[0m             )\n\u001b[0;32m--> 851\u001b[0;31m         return self._input_request(str(prompt),\n\u001b[0m\u001b[1;32m    852\u001b[0m             \u001b[0mself\u001b[0m\u001b[0;34m.\u001b[0m\u001b[0m_parent_ident\u001b[0m\u001b[0;34m,\u001b[0m\u001b[0;34m\u001b[0m\u001b[0;34m\u001b[0m\u001b[0m\n\u001b[1;32m    853\u001b[0m             \u001b[0mself\u001b[0m\u001b[0;34m.\u001b[0m\u001b[0m_parent_header\u001b[0m\u001b[0;34m,\u001b[0m\u001b[0;34m\u001b[0m\u001b[0;34m\u001b[0m\u001b[0m\n",
            "\u001b[0;32m/usr/local/lib/python3.10/dist-packages/ipykernel/kernelbase.py\u001b[0m in \u001b[0;36m_input_request\u001b[0;34m(self, prompt, ident, parent, password)\u001b[0m\n\u001b[1;32m    893\u001b[0m             \u001b[0;32mexcept\u001b[0m \u001b[0mKeyboardInterrupt\u001b[0m\u001b[0;34m:\u001b[0m\u001b[0;34m\u001b[0m\u001b[0;34m\u001b[0m\u001b[0m\n\u001b[1;32m    894\u001b[0m                 \u001b[0;31m# re-raise KeyboardInterrupt, to truncate traceback\u001b[0m\u001b[0;34m\u001b[0m\u001b[0;34m\u001b[0m\u001b[0m\n\u001b[0;32m--> 895\u001b[0;31m                 \u001b[0;32mraise\u001b[0m \u001b[0mKeyboardInterrupt\u001b[0m\u001b[0;34m(\u001b[0m\u001b[0;34m\"Interrupted by user\"\u001b[0m\u001b[0;34m)\u001b[0m \u001b[0;32mfrom\u001b[0m \u001b[0;32mNone\u001b[0m\u001b[0;34m\u001b[0m\u001b[0;34m\u001b[0m\u001b[0m\n\u001b[0m\u001b[1;32m    896\u001b[0m             \u001b[0;32mexcept\u001b[0m \u001b[0mException\u001b[0m \u001b[0;32mas\u001b[0m \u001b[0me\u001b[0m\u001b[0;34m:\u001b[0m\u001b[0;34m\u001b[0m\u001b[0;34m\u001b[0m\u001b[0m\n\u001b[1;32m    897\u001b[0m                 \u001b[0mself\u001b[0m\u001b[0;34m.\u001b[0m\u001b[0mlog\u001b[0m\u001b[0;34m.\u001b[0m\u001b[0mwarning\u001b[0m\u001b[0;34m(\u001b[0m\u001b[0;34m\"Invalid Message:\"\u001b[0m\u001b[0;34m,\u001b[0m \u001b[0mexc_info\u001b[0m\u001b[0;34m=\u001b[0m\u001b[0;32mTrue\u001b[0m\u001b[0;34m)\u001b[0m\u001b[0;34m\u001b[0m\u001b[0;34m\u001b[0m\u001b[0m\n",
            "\u001b[0;31mKeyboardInterrupt\u001b[0m: Interrupted by user"
          ]
        }
      ]
    },
    {
      "cell_type": "code",
      "source": [
        "#Function #7 Haircut recommender\n",
        "\n",
        "#Asks for the users facial structure\n",
        "face_shape = input('Enter your face shape (Round, Triangle, Square, or Oval): ')\n",
        "\n",
        "#created a funtion that returns a value based on the face shape the user provides\n",
        "def haircut_recommendation(face_shape):\n",
        "    if face_shape.lower() == 'round':\n",
        "        return 'Low cut or Mid cut'\n",
        "    elif face_shape.lower() == 'triangle':\n",
        "        return 'Mid cut'\n",
        "    elif face_shape.lower() == 'square':\n",
        "        return 'Mid cut or Long cut'\n",
        "    elif face_shape.lower() == 'oval':\n",
        "        return 'Mid cut or Long cut'\n",
        "    else:\n",
        "        return 'Face shape not recognized'\n",
        "\n",
        "haircut_recommendation(face_shape)\n"
      ],
      "metadata": {
        "colab": {
          "base_uri": "https://localhost:8080/",
          "height": 52
        },
        "id": "HqZ102yR0Zfu",
        "outputId": "7f6fee5d-60ba-4ee0-a1a1-41d54ba4d667"
      },
      "execution_count": null,
      "outputs": [
        {
          "name": "stdout",
          "output_type": "stream",
          "text": [
            "Enter your face shape (Round, Triangle, Square, or Oval): oval\n"
          ]
        },
        {
          "output_type": "execute_result",
          "data": {
            "text/plain": [
              "'Mid cut or Long cut'"
            ],
            "application/vnd.google.colaboratory.intrinsic+json": {
              "type": "string"
            }
          },
          "metadata": {},
          "execution_count": 64
        }
      ]
    }
  ]
}