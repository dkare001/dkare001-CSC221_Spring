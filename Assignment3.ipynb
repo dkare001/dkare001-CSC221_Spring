{
  "nbformat": 4,
  "nbformat_minor": 0,
  "metadata": {
    "colab": {
      "provenance": [],
      "authorship_tag": "ABX9TyNKZUGX1m/8OWqOTnGd8BHm",
      "include_colab_link": true
    },
    "kernelspec": {
      "name": "python3",
      "display_name": "Python 3"
    },
    "language_info": {
      "name": "python"
    }
  },
  "cells": [
    {
      "cell_type": "markdown",
      "metadata": {
        "id": "view-in-github",
        "colab_type": "text"
      },
      "source": [
        "<a href=\"https://colab.research.google.com/github/dkare001/dkare001-CSC221_Spring/blob/main/Assignment3.ipynb\" target=\"_parent\"><img src=\"https://colab.research.google.com/assets/colab-badge.svg\" alt=\"Open In Colab\"/></a>"
      ]
    },
    {
      "cell_type": "code",
      "execution_count": 2,
      "metadata": {
        "colab": {
          "base_uri": "https://localhost:8080/"
        },
        "id": "QAglOHOYvGu-",
        "outputId": "ece95c4d-8e06-4aed-a2fa-6b3c5d5b1ec5"
      },
      "outputs": [
        {
          "output_type": "stream",
          "name": "stdout",
          "text": [
            "Hello Python World!\n",
            "Hello Python Crash Course World!\n"
          ]
        }
      ],
      "source": [
        "#Dares Kareem, 02/13/2024\n",
        "message = \"Hello Python World!\"\n",
        "print(message)\n",
        "\n",
        "message = \"Hello Python Crash Course World!\"\n",
        "print(message)"
      ]
    },
    {
      "cell_type": "code",
      "source": [
        "#2-1. Simple Message:\n",
        "message_1 = \"Hello my name is Dares!\"\n",
        "print(message_1)"
      ],
      "metadata": {
        "colab": {
          "base_uri": "https://localhost:8080/"
        },
        "id": "fSbEycwTwPY5",
        "outputId": "cadfd292-56f4-4114-c31d-164d1fea14f6"
      },
      "execution_count": 4,
      "outputs": [
        {
          "output_type": "stream",
          "name": "stdout",
          "text": [
            "Hello my name is Dares!\n"
          ]
        }
      ]
    },
    {
      "cell_type": "code",
      "source": [],
      "metadata": {
        "id": "VMdos7NRwhBn"
      },
      "execution_count": null,
      "outputs": []
    },
    {
      "cell_type": "code",
      "source": [
        "#2-2. Simple Message:\n",
        "message_1 = \"Hello my name us Dares!\"\n",
        "print(message_1)\n",
        "\n",
        "message_1 = \"I am a sophomore at SUNY Plattsburgh.\"\n",
        "print(message_1)"
      ],
      "metadata": {
        "colab": {
          "base_uri": "https://localhost:8080/"
        },
        "id": "HWjHzrxewhJ3",
        "outputId": "bf77dd22-a914-417f-a55c-19f0850e6366"
      },
      "execution_count": 8,
      "outputs": [
        {
          "output_type": "stream",
          "name": "stdout",
          "text": [
            "Hello my name us Dares!\n",
            "I am a sophomore at SUNY Plattsburgh\n"
          ]
        }
      ]
    },
    {
      "cell_type": "code",
      "source": [
        "#2-3. Personal Message:\n",
        "name = \"Dares\"\n",
        "message = f\"Hello, {name} would you like to learn some code today?\"\n",
        "print(message)\n"
      ],
      "metadata": {
        "colab": {
          "base_uri": "https://localhost:8080/"
        },
        "id": "uFvnn2gsyry4",
        "outputId": "202db9ba-20fc-467a-f3ed-e6f0eb05d1a6"
      },
      "execution_count": 15,
      "outputs": [
        {
          "output_type": "stream",
          "name": "stdout",
          "text": [
            "Hello, Dares would you like to learn some code today?\n"
          ]
        }
      ]
    },
    {
      "cell_type": "code",
      "source": [
        "#2-4. Name Cases:\n",
        "name = \"Joseph\"\n",
        "print(name.lower())\n",
        "print(name.upper())\n",
        "print(name.title())\n"
      ],
      "metadata": {
        "colab": {
          "base_uri": "https://localhost:8080/"
        },
        "id": "7wbn5Puk0Kg-",
        "outputId": "88dc137f-2351-4d7f-ab09-141eb38156d8"
      },
      "execution_count": 39,
      "outputs": [
        {
          "output_type": "stream",
          "name": "stdout",
          "text": [
            "joseph\n",
            "JOSEPH\n",
            "Joseph\n"
          ]
        }
      ]
    },
    {
      "cell_type": "code",
      "source": [
        "#2-5. Famous Quote:\n",
        "message = '\\tChadwick Boseman once said \\n\\t \"You are not free unless you can show the good and the bad, all sides of them. So to me, when I play a character, it is important that I can show every aspect of them\"'\n",
        "print(message)"
      ],
      "metadata": {
        "colab": {
          "base_uri": "https://localhost:8080/"
        },
        "id": "D3TOCvnD0_61",
        "outputId": "efe804ff-1a4d-4566-923f-caefd73901c0"
      },
      "execution_count": 40,
      "outputs": [
        {
          "output_type": "stream",
          "name": "stdout",
          "text": [
            "\tChadwick Boseman once said \n",
            "\t \"You are not free unless you can show the good and the bad, all sides of them. So to me, when I play a character, it is important that I can show every aspect of them\"\n"
          ]
        }
      ]
    },
    {
      "cell_type": "code",
      "source": [
        "#2-6. Famous Quote 2:\n",
        "famous_person = \"Chadwick Boseman\"\n",
        "message = f'\\t{famous_person} once said \\n \"You are not free unless you can show the good and the bad, all sides of them. So to me, when I play a character, it is important that I can show every aspect of them\"'\n",
        "print(message)"
      ],
      "metadata": {
        "colab": {
          "base_uri": "https://localhost:8080/"
        },
        "id": "T2XnHKrv6Uc9",
        "outputId": "54696a69-1c1c-4095-a451-236c51f220dd"
      },
      "execution_count": 43,
      "outputs": [
        {
          "output_type": "stream",
          "name": "stdout",
          "text": [
            "\tChadwick Boseman once said \n",
            " \"You are not free unless you can show the good and the bad, all sides of them. So to me, when I play a character, it is important that I can show every aspect of them\"\n"
          ]
        }
      ]
    },
    {
      "cell_type": "code",
      "source": [
        "#2-7. Stripping Names:\n",
        "friend = \"\\tBen \\n Mohammed \\n\"\n",
        "print(friend)\n",
        "print(friend.lstrip())\n",
        "print(friend.rstrip())\n",
        "print(friend.strip())"
      ],
      "metadata": {
        "colab": {
          "base_uri": "https://localhost:8080/"
        },
        "id": "XDQr1BYo7S-c",
        "outputId": "44349b43-5402-4da6-8860-89ebdad5a24d"
      },
      "execution_count": 54,
      "outputs": [
        {
          "output_type": "stream",
          "name": "stdout",
          "text": [
            "\tBen \n",
            " Mohammed \n",
            "\n",
            "Ben \n",
            " Mohammed \n",
            "\n",
            "\tBen \n",
            " Mohammed\n",
            "Ben \n",
            " Mohammed\n"
          ]
        }
      ]
    },
    {
      "cell_type": "code",
      "source": [
        "#2-8. File Extensions:\n",
        "filename = \"Python_Notes.txt\"\n",
        "filename.removesuffix('.txt')"
      ],
      "metadata": {
        "colab": {
          "base_uri": "https://localhost:8080/",
          "height": 35
        },
        "id": "c6Jf-V0S9eeN",
        "outputId": "fbf7b390-4790-4749-cbf2-6cfd84f31ccf"
      },
      "execution_count": 57,
      "outputs": [
        {
          "output_type": "execute_result",
          "data": {
            "text/plain": [
              "'Python_Notes.txt'"
            ],
            "application/vnd.google.colaboratory.intrinsic+json": {
              "type": "string"
            }
          },
          "metadata": {},
          "execution_count": 57
        }
      ]
    },
    {
      "cell_type": "code",
      "source": [
        "#2-9. Number Eight\n",
        "print(2 + 6)\n",
        "print(12 - 4)\n",
        "print(16 / 2)\n",
        "print(4 * 2)"
      ],
      "metadata": {
        "colab": {
          "base_uri": "https://localhost:8080/"
        },
        "id": "N_RwuuNd_QCQ",
        "outputId": "5a23a8bf-c4d6-4d90-9490-7a7b2aa12bac"
      },
      "execution_count": 63,
      "outputs": [
        {
          "output_type": "stream",
          "name": "stdout",
          "text": [
            "8\n",
            "8\n",
            "8.0\n",
            "8\n"
          ]
        }
      ]
    },
    {
      "cell_type": "code",
      "source": [
        "#2-10. Favorite Number\n",
        "favorite_number = 7\n",
        "print(f'My favorite number is {favorite_number}')"
      ],
      "metadata": {
        "colab": {
          "base_uri": "https://localhost:8080/"
        },
        "id": "nYF9pdDJAsaP",
        "outputId": "4990c543-7aa8-4d80-a566-776a16d21efe"
      },
      "execution_count": 64,
      "outputs": [
        {
          "output_type": "stream",
          "name": "stdout",
          "text": [
            "My favorite number is 7\n"
          ]
        }
      ]
    },
    {
      "cell_type": "code",
      "source": [],
      "metadata": {
        "id": "6A4xFj2VBdkF"
      },
      "execution_count": null,
      "outputs": []
    }
  ]
}