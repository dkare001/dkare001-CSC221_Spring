{
  "nbformat": 4,
  "nbformat_minor": 0,
  "metadata": {
    "colab": {
      "provenance": [],
      "authorship_tag": "ABX9TyMYZuvXFJSYOmzZuKil1to5",
      "include_colab_link": true
    },
    "kernelspec": {
      "name": "python3",
      "display_name": "Python 3"
    },
    "language_info": {
      "name": "python"
    }
  },
  "cells": [
    {
      "cell_type": "markdown",
      "metadata": {
        "id": "view-in-github",
        "colab_type": "text"
      },
      "source": [
        "<a href=\"https://colab.research.google.com/github/dkare001/dkare001-CSC221_Spring/blob/main/Class04_live.ipynb\" target=\"_parent\"><img src=\"https://colab.research.google.com/assets/colab-badge.svg\" alt=\"Open In Colab\"/></a>"
      ]
    },
    {
      "cell_type": "code",
      "execution_count": 1,
      "metadata": {
        "id": "ftOadFq9I7h4"
      },
      "outputs": [],
      "source": [
        "abc = [1, 2, 3, 8,]"
      ]
    },
    {
      "cell_type": "code",
      "source": [
        "print(type(abc))"
      ],
      "metadata": {
        "colab": {
          "base_uri": "https://localhost:8080/"
        },
        "id": "DIyZPX8rKHlk",
        "outputId": "fa767b54-0379-4e5c-81cf-c72557d1f5bf"
      },
      "execution_count": 2,
      "outputs": [
        {
          "output_type": "stream",
          "name": "stdout",
          "text": [
            "<class 'list'>\n"
          ]
        }
      ]
    },
    {
      "cell_type": "code",
      "source": [
        "print(abc[1])"
      ],
      "metadata": {
        "colab": {
          "base_uri": "https://localhost:8080/"
        },
        "id": "XB52WbZKKMST",
        "outputId": "710c2b09-65d4-430a-efaa-8c93ef72db01"
      },
      "execution_count": 3,
      "outputs": [
        {
          "output_type": "stream",
          "name": "stdout",
          "text": [
            "2\n"
          ]
        }
      ]
    },
    {
      "cell_type": "code",
      "source": [
        "print(abc[-1])"
      ],
      "metadata": {
        "colab": {
          "base_uri": "https://localhost:8080/"
        },
        "id": "WVn-YlS3KiwI",
        "outputId": "7931b0dc-fe88-4083-eb5f-f2fc23190ce3"
      },
      "execution_count": 4,
      "outputs": [
        {
          "output_type": "stream",
          "name": "stdout",
          "text": [
            "8\n"
          ]
        }
      ]
    },
    {
      "cell_type": "code",
      "source": [
        "abc.append(123)\n"
      ],
      "metadata": {
        "id": "2ZDd-KV1K3Up"
      },
      "execution_count": 5,
      "outputs": []
    },
    {
      "cell_type": "code",
      "source": [
        "abc[3]='ned'"
      ],
      "metadata": {
        "id": "ykAbeKQ1LQ4p"
      },
      "execution_count": 6,
      "outputs": []
    },
    {
      "cell_type": "code",
      "source": [
        "print(abc)"
      ],
      "metadata": {
        "colab": {
          "base_uri": "https://localhost:8080/"
        },
        "id": "KjpiMxRuLYbt",
        "outputId": "14ecec56-8b2a-4fc8-b84b-b0e0184d3614"
      },
      "execution_count": 7,
      "outputs": [
        {
          "output_type": "stream",
          "name": "stdout",
          "text": [
            "[1, 2, 3, 'ned', 123]\n"
          ]
        }
      ]
    },
    {
      "cell_type": "code",
      "source": [
        "print(abc[6])"
      ],
      "metadata": {
        "colab": {
          "base_uri": "https://localhost:8080/",
          "height": 174
        },
        "id": "NmzGKQKyLc42",
        "outputId": "eac2c738-ff08-43bb-9fc6-3a5920cbb070"
      },
      "execution_count": 8,
      "outputs": [
        {
          "output_type": "error",
          "ename": "IndexError",
          "evalue": "list index out of range",
          "traceback": [
            "\u001b[0;31m---------------------------------------------------------------------------\u001b[0m",
            "\u001b[0;31mIndexError\u001b[0m                                Traceback (most recent call last)",
            "\u001b[0;32m<ipython-input-8-c765f530df74>\u001b[0m in \u001b[0;36m<cell line: 1>\u001b[0;34m()\u001b[0m\n\u001b[0;32m----> 1\u001b[0;31m \u001b[0mprint\u001b[0m\u001b[0;34m(\u001b[0m\u001b[0mabc\u001b[0m\u001b[0;34m[\u001b[0m\u001b[0;36m6\u001b[0m\u001b[0;34m]\u001b[0m\u001b[0;34m)\u001b[0m\u001b[0;34m\u001b[0m\u001b[0;34m\u001b[0m\u001b[0m\n\u001b[0m",
            "\u001b[0;31mIndexError\u001b[0m: list index out of range"
          ]
        }
      ]
    },
    {
      "cell_type": "code",
      "source": [
        "t1 = (13, 21, 81, 5)\n",
        "print(type(t1))\n",
        "print(t1)"
      ],
      "metadata": {
        "colab": {
          "base_uri": "https://localhost:8080/"
        },
        "id": "tE6MCAU3L_OZ",
        "outputId": "44fc78ce-1349-4475-96f0-144197284bea"
      },
      "execution_count": 9,
      "outputs": [
        {
          "output_type": "stream",
          "name": "stdout",
          "text": [
            "<class 'tuple'>\n",
            "(13, 21, 81, 5)\n"
          ]
        }
      ]
    },
    {
      "cell_type": "code",
      "source": [
        "x='13'\n",
        "print(x*10)\\\n",
        "\n",
        "x = 13\n",
        "\n",
        "print(x*10)"
      ],
      "metadata": {
        "colab": {
          "base_uri": "https://localhost:8080/"
        },
        "id": "4T2tB0JiMS6P",
        "outputId": "b6017815-2bb7-42c0-a570-0680f49255dc"
      },
      "execution_count": 12,
      "outputs": [
        {
          "output_type": "stream",
          "name": "stdout",
          "text": [
            "13131313131313131313\n",
            "130\n"
          ]
        }
      ]
    },
    {
      "cell_type": "code",
      "source": [
        "last = abc.pop()\n",
        "\n",
        "print(last, abc)\n"
      ],
      "metadata": {
        "colab": {
          "base_uri": "https://localhost:8080/",
          "height": 208
        },
        "id": "dYahlVxDNI1g",
        "outputId": "b13e027a-1a5a-4974-b627-80d4c6796ea3"
      },
      "execution_count": 19,
      "outputs": [
        {
          "output_type": "error",
          "ename": "IndexError",
          "evalue": "pop from empty list",
          "traceback": [
            "\u001b[0;31m---------------------------------------------------------------------------\u001b[0m",
            "\u001b[0;31mIndexError\u001b[0m                                Traceback (most recent call last)",
            "\u001b[0;32m<ipython-input-19-008d5aeaccea>\u001b[0m in \u001b[0;36m<cell line: 1>\u001b[0;34m()\u001b[0m\n\u001b[0;32m----> 1\u001b[0;31m \u001b[0mlast\u001b[0m \u001b[0;34m=\u001b[0m \u001b[0mabc\u001b[0m\u001b[0;34m.\u001b[0m\u001b[0mpop\u001b[0m\u001b[0;34m(\u001b[0m\u001b[0;34m)\u001b[0m\u001b[0;34m\u001b[0m\u001b[0;34m\u001b[0m\u001b[0m\n\u001b[0m\u001b[1;32m      2\u001b[0m \u001b[0;34m\u001b[0m\u001b[0m\n\u001b[1;32m      3\u001b[0m \u001b[0mprint\u001b[0m\u001b[0;34m(\u001b[0m\u001b[0mlast\u001b[0m\u001b[0;34m,\u001b[0m \u001b[0mabc\u001b[0m\u001b[0;34m)\u001b[0m\u001b[0;34m\u001b[0m\u001b[0;34m\u001b[0m\u001b[0m\n",
            "\u001b[0;31mIndexError\u001b[0m: pop from empty list"
          ]
        }
      ]
    },
    {
      "cell_type": "code",
      "source": [
        "# GUESSING GAME\n",
        "\n",
        "import random\n",
        "\n",
        "print(\"Welcome to the Guessing Game\")\n",
        "num = random.randint(1,10)\n",
        "while True:\n",
        "  guess = input(\"Guess a number \")\n",
        "\n",
        "  try:\n",
        "   if guess == num:\n",
        "    print('Congrats')\n",
        "    break\n",
        "\n",
        "  except:\n",
        "    print('Wrong Answer')\n"
      ],
      "metadata": {
        "colab": {
          "base_uri": "https://localhost:8080/"
        },
        "id": "T8jc1ZbON-i2",
        "outputId": "ae90e78a-e86e-48cf-c6be-c80f448d5823"
      },
      "execution_count": null,
      "outputs": [
        {
          "name": "stdout",
          "output_type": "stream",
          "text": [
            "Welcome to the Guessing Game\n",
            "Guess a number 1\n",
            "Guess a number 2\n",
            "Guess a number 3\n",
            "Guess a number 4\n",
            "Guess a number 5\n",
            "Guess a number 6\n",
            "Guess a number 5\n",
            "Guess a number 6\n",
            "Guess a number 4\n",
            "Guess a number 38\n",
            "Guess a number 9\n",
            "Guess a number 8\n",
            "Guess a number 10\n",
            "Guess a number 1\n",
            "Guess a number 2\n",
            "Guess a number 3\n",
            "Guess a number 4\n",
            "Guess a number 5\n",
            "Guess a number 6\n",
            "Guess a number 7\n",
            "Guess a number \n"
          ]
        }
      ]
    }
  ]
}