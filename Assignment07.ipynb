{
  "nbformat": 4,
  "nbformat_minor": 0,
  "metadata": {
    "colab": {
      "provenance": [],
      "authorship_tag": "ABX9TyMzCRFCArUefJrDYfWG+C+f",
      "include_colab_link": true
    },
    "kernelspec": {
      "name": "python3",
      "display_name": "Python 3"
    },
    "language_info": {
      "name": "python"
    }
  },
  "cells": [
    {
      "cell_type": "markdown",
      "metadata": {
        "id": "view-in-github",
        "colab_type": "text"
      },
      "source": [
        "<a href=\"https://colab.research.google.com/github/dkare001/dkare001-CSC221_Spring/blob/main/Assignment07.ipynb\" target=\"_parent\"><img src=\"https://colab.research.google.com/assets/colab-badge.svg\" alt=\"Open In Colab\"/></a>"
      ]
    },
    {
      "cell_type": "code",
      "execution_count": null,
      "metadata": {
        "colab": {
          "base_uri": "https://localhost:8080/"
        },
        "id": "ZroqjVaQtP4X",
        "outputId": "a9922a08-2166-42c4-9d36-e86f16a29edc"
      },
      "outputs": [
        {
          "output_type": "stream",
          "name": "stdout",
          "text": [
            "alien\n",
            "green\n"
          ]
        }
      ],
      "source": [
        "#Personal tryouts:\n",
        "character = {'species':'alien', 'color':'green'}\n",
        "print(character[f'species'])\n",
        "print(character['color'])"
      ]
    },
    {
      "cell_type": "code",
      "source": [
        "dog = {'color':'brown', 'breed':'german shepard'}\n",
        "print(dog['color'])\n",
        "print(dog['breed'])\n",
        "\n",
        "\n"
      ],
      "metadata": {
        "colab": {
          "base_uri": "https://localhost:8080/"
        },
        "id": "495Suk4Qw7Hf",
        "outputId": "0bd8bb1d-d12c-4c46-c835-ec3e07c35ddf"
      },
      "execution_count": null,
      "outputs": [
        {
          "output_type": "stream",
          "name": "stdout",
          "text": [
            "brown\n",
            "german shepard\n"
          ]
        }
      ]
    },
    {
      "cell_type": "code",
      "source": [
        "#6-1 Person:\n",
        "person_info = {'first_name':'Ben', 'last_name':'Mohhamed', 'city':'New York'}\n",
        "print(person_info)\n",
        "print(person_info['first_name'])\n",
        "print(person_info['last_name'])\n",
        "print(person_info['city'])\n",
        "\n",
        "#Easier way\n",
        "for person in person_info:\n",
        "  print(person_info[person])"
      ],
      "metadata": {
        "colab": {
          "base_uri": "https://localhost:8080/"
        },
        "id": "avPih4JntbSw",
        "outputId": "a6c4de9d-62bf-4823-f740-78afce93028b"
      },
      "execution_count": null,
      "outputs": [
        {
          "output_type": "stream",
          "name": "stdout",
          "text": [
            "{'first_name': 'Ben', 'last_name': 'Mohhamed', 'city': 'New York'}\n",
            "Ben\n",
            "Mohhamed\n",
            "New York\n",
            "Ben\n",
            "Mohhamed\n",
            "New York\n"
          ]
        }
      ]
    },
    {
      "cell_type": "code",
      "source": [
        "#6-2 Favorite Numbers\n",
        "favorite_num = {'Bev': 7, 'Hafiz': 8, 'Mo': 3, 'Prince': 1, 'Dilling': 1}\n",
        "print(favorite_num['Bev'])\n",
        "print(favorite_num['Hafiz'])\n",
        "print(favorite_num['Mo'])\n",
        "print(favorite_num['Prince'])\n",
        "print(favorite_num['Dilling'])\n",
        "\n",
        "#easy way\n",
        "for name in favorite_num:\n",
        "    print(f\"{name}'s favorite number is: {favorite_num[name]}\")\n"
      ],
      "metadata": {
        "colab": {
          "base_uri": "https://localhost:8080/"
        },
        "id": "Eh1SotqAwguj",
        "outputId": "83df78cd-49f9-4d2f-ee4c-e5d3a03ce25d"
      },
      "execution_count": null,
      "outputs": [
        {
          "output_type": "stream",
          "name": "stdout",
          "text": [
            "7\n",
            "8\n",
            "3\n",
            "1\n",
            "1\n",
            "Bev's favorite number is: 7\n",
            "Hafiz's favorite number is: 8\n",
            "Mo's favorite number is: 3\n",
            "Prince's favorite number is: 1\n",
            "Dilling's favorite number is: 1\n"
          ]
        }
      ]
    },
    {
      "cell_type": "code",
      "source": [
        "#6-3 Glossary #I had already figgured out the looping so i just left my code as is\n",
        "glossary = {'list':'Collection of items that can be changed', 'tuple': 'Collection of items that cannot be changed', 'dictionary':'Stores and assigns values to keys', 'Function':'Reusable code that takes input and returns a value', 'string':'A text that is assigned an unchangable value using quotations'}\n",
        "print(glossary)\n",
        "\n",
        "for word in glossary:\n",
        "  print(f'{word.title()} : {glossary[word]}')"
      ],
      "metadata": {
        "colab": {
          "base_uri": "https://localhost:8080/"
        },
        "id": "RJeXa7Pzum_Y",
        "outputId": "4a61af0b-0d14-4eec-cca3-be370f58d800"
      },
      "execution_count": null,
      "outputs": [
        {
          "output_type": "stream",
          "name": "stdout",
          "text": [
            "{'list': 'Collection of items that can be changed', 'tuple': 'Collection of items that cannot be changed', 'dictionary': 'Stores and assigns values to keys', 'Function': 'Reusable code that takes input and returns a value', 'string': 'A text that is assigned an unchangable value using quotations'}\n",
            "List : Collection of items that can be changed\n",
            "Tuple : Collection of items that cannot be changed\n",
            "Dictionary : Stores and assigns values to keys\n",
            "Function : Reusable code that takes input and returns a value\n",
            "String : A text that is assigned an unchangable value using quotations\n"
          ]
        }
      ]
    },
    {
      "cell_type": "code",
      "source": [
        "#6-4 Glossary 2\n",
        "glossary = {'list':'Collection of items that can be changed',\n",
        "            'tuple': 'Collection of items that cannot be changed',\n",
        "            'dictionary':'Stores and assigns values to keys',\n",
        "            'Function':'Reusable code that takes input and returns a value',\n",
        "            'string':'A text that is assigned an unchangable value using quotations',\n",
        "            'loop':'Allows you to run code repeatedly',\n",
        "            'variable':'Named storage that can store data values',\n",
        "            'conditional statements':'Uses true or false to make a decision',\n",
        "            'if statements':'Allows you to execute a code if a specific condition is true',\n",
        "            'try-execpt statement':'Allows you to catch and handle exceptions that may occur during the execution of your code.'\n",
        "            }\n",
        "\n",
        "for word in glossary:\n",
        "  print(f'{word.title()} : {glossary[word]}\\n')\n"
      ],
      "metadata": {
        "colab": {
          "base_uri": "https://localhost:8080/"
        },
        "id": "YH_blCmT2203",
        "outputId": "83bb6a45-a875-4afb-f5b9-90c61c634f21"
      },
      "execution_count": null,
      "outputs": [
        {
          "output_type": "stream",
          "name": "stdout",
          "text": [
            "List : Collection of items that can be changed\n",
            "\n",
            "Tuple : Collection of items that cannot be changed\n",
            "\n",
            "Dictionary : Stores and assigns values to keys\n",
            "\n",
            "Function : Reusable code that takes input and returns a value\n",
            "\n",
            "String : A text that is assigned an unchangable value using quotations\n",
            "\n",
            "Loop : Allows you to run code repeatedly\n",
            "\n",
            "Variable : Named storage that can store data values\n",
            "\n",
            "Conditional Statements : Uses true or false to make a decision\n",
            "\n",
            "If Statements : Allows you to execute a code if a specific condition is true\n",
            "\n",
            "Try-Execpt Statement : Allows you to catch and handle exceptions that may occur during the execution of your code.\n",
            "\n"
          ]
        }
      ]
    },
    {
      "cell_type": "code",
      "source": [
        "cities = {\n",
        "    'New York': {'population': '8.5m', 'country': 'USA', 'fact': 'Home to the Statue of Liberty.'},\n",
        "    'Accra': {'population': '2.4m', 'country': 'Ghana', 'fact': 'Second largest producer of cocoa.'},\n",
        "    'Paris': {'population': '2.1m', 'country': 'France', 'fact': 'Home to the Eiffel tower.'}\n",
        "}\n",
        "\n",
        "for city in cities:\n",
        "    print(f'{city}:')\n",
        "    city_info = cities[city]\n",
        "    for info in city_info:\n",
        "      print(f'{info} - {city_info[info]}')\n"
      ],
      "metadata": {
        "colab": {
          "base_uri": "https://localhost:8080/"
        },
        "id": "R8UgO4vk-j_1",
        "outputId": "0d0d8703-e6bc-4486-b18b-6fc10189b38b"
      },
      "execution_count": null,
      "outputs": [
        {
          "output_type": "stream",
          "name": "stdout",
          "text": [
            "New York:\n",
            "population - 8.5m\n",
            "country - USA\n",
            "fact - Home to the Statue of Liberty.\n",
            "Accra:\n",
            "population - 2.4m\n",
            "country - Ghana\n",
            "fact - Second largest producer of cocoa.\n",
            "Paris:\n",
            "population - 2.1m\n",
            "country - France\n",
            "fact - Home to the Eiffel tower.\n"
          ]
        }
      ]
    },
    {
      "cell_type": "code",
      "source": [
        "from google.colab import files\n",
        "uploaded = files.upload()\n",
        "\n",
        "filename = \"Assignment7.txt\"\n",
        "grades_dict = {}\n",
        "\n",
        "with open(filename, 'r') as file:\n",
        "    for line in file:\n",
        "        name, grade = line.strip().split()\n",
        "        grades_dict[name] = int(grade)\n",
        "\n",
        "print(\"Dictionary sorted by names:\")\n",
        "sorted_names = dict(sorted(grades_dict.items()))\n",
        "for name, grade in sorted_names.items():\n",
        "    print(f\"{name}: {grade}\")\n",
        "\n",
        "print(\"\\nDictionary sorted by grades (highest to lowest):\")\n",
        "sorted_grades = dict(sorted(grades_dict.items(), key=lambda item: item[1], reverse=True))\n",
        "for name, grade in sorted_grades.items():\n",
        "    print(f\"{name}: {grade}\")\n"
      ],
      "metadata": {
        "id": "2qKHRHp9DLW6",
        "colab": {
          "base_uri": "https://localhost:8080/",
          "height": 324
        },
        "outputId": "1008e5c9-296b-45c1-f964-5988e4351213"
      },
      "execution_count": 63,
      "outputs": [
        {
          "output_type": "display_data",
          "data": {
            "text/plain": [
              "<IPython.core.display.HTML object>"
            ],
            "text/html": [
              "\n",
              "     <input type=\"file\" id=\"files-8c913ddb-4159-4ec3-ac19-aa5fb4a11d94\" name=\"files[]\" multiple disabled\n",
              "        style=\"border:none\" />\n",
              "     <output id=\"result-8c913ddb-4159-4ec3-ac19-aa5fb4a11d94\">\n",
              "      Upload widget is only available when the cell has been executed in the\n",
              "      current browser session. Please rerun this cell to enable.\n",
              "      </output>\n",
              "      <script>// Copyright 2017 Google LLC\n",
              "//\n",
              "// Licensed under the Apache License, Version 2.0 (the \"License\");\n",
              "// you may not use this file except in compliance with the License.\n",
              "// You may obtain a copy of the License at\n",
              "//\n",
              "//      http://www.apache.org/licenses/LICENSE-2.0\n",
              "//\n",
              "// Unless required by applicable law or agreed to in writing, software\n",
              "// distributed under the License is distributed on an \"AS IS\" BASIS,\n",
              "// WITHOUT WARRANTIES OR CONDITIONS OF ANY KIND, either express or implied.\n",
              "// See the License for the specific language governing permissions and\n",
              "// limitations under the License.\n",
              "\n",
              "/**\n",
              " * @fileoverview Helpers for google.colab Python module.\n",
              " */\n",
              "(function(scope) {\n",
              "function span(text, styleAttributes = {}) {\n",
              "  const element = document.createElement('span');\n",
              "  element.textContent = text;\n",
              "  for (const key of Object.keys(styleAttributes)) {\n",
              "    element.style[key] = styleAttributes[key];\n",
              "  }\n",
              "  return element;\n",
              "}\n",
              "\n",
              "// Max number of bytes which will be uploaded at a time.\n",
              "const MAX_PAYLOAD_SIZE = 100 * 1024;\n",
              "\n",
              "function _uploadFiles(inputId, outputId) {\n",
              "  const steps = uploadFilesStep(inputId, outputId);\n",
              "  const outputElement = document.getElementById(outputId);\n",
              "  // Cache steps on the outputElement to make it available for the next call\n",
              "  // to uploadFilesContinue from Python.\n",
              "  outputElement.steps = steps;\n",
              "\n",
              "  return _uploadFilesContinue(outputId);\n",
              "}\n",
              "\n",
              "// This is roughly an async generator (not supported in the browser yet),\n",
              "// where there are multiple asynchronous steps and the Python side is going\n",
              "// to poll for completion of each step.\n",
              "// This uses a Promise to block the python side on completion of each step,\n",
              "// then passes the result of the previous step as the input to the next step.\n",
              "function _uploadFilesContinue(outputId) {\n",
              "  const outputElement = document.getElementById(outputId);\n",
              "  const steps = outputElement.steps;\n",
              "\n",
              "  const next = steps.next(outputElement.lastPromiseValue);\n",
              "  return Promise.resolve(next.value.promise).then((value) => {\n",
              "    // Cache the last promise value to make it available to the next\n",
              "    // step of the generator.\n",
              "    outputElement.lastPromiseValue = value;\n",
              "    return next.value.response;\n",
              "  });\n",
              "}\n",
              "\n",
              "/**\n",
              " * Generator function which is called between each async step of the upload\n",
              " * process.\n",
              " * @param {string} inputId Element ID of the input file picker element.\n",
              " * @param {string} outputId Element ID of the output display.\n",
              " * @return {!Iterable<!Object>} Iterable of next steps.\n",
              " */\n",
              "function* uploadFilesStep(inputId, outputId) {\n",
              "  const inputElement = document.getElementById(inputId);\n",
              "  inputElement.disabled = false;\n",
              "\n",
              "  const outputElement = document.getElementById(outputId);\n",
              "  outputElement.innerHTML = '';\n",
              "\n",
              "  const pickedPromise = new Promise((resolve) => {\n",
              "    inputElement.addEventListener('change', (e) => {\n",
              "      resolve(e.target.files);\n",
              "    });\n",
              "  });\n",
              "\n",
              "  const cancel = document.createElement('button');\n",
              "  inputElement.parentElement.appendChild(cancel);\n",
              "  cancel.textContent = 'Cancel upload';\n",
              "  const cancelPromise = new Promise((resolve) => {\n",
              "    cancel.onclick = () => {\n",
              "      resolve(null);\n",
              "    };\n",
              "  });\n",
              "\n",
              "  // Wait for the user to pick the files.\n",
              "  const files = yield {\n",
              "    promise: Promise.race([pickedPromise, cancelPromise]),\n",
              "    response: {\n",
              "      action: 'starting',\n",
              "    }\n",
              "  };\n",
              "\n",
              "  cancel.remove();\n",
              "\n",
              "  // Disable the input element since further picks are not allowed.\n",
              "  inputElement.disabled = true;\n",
              "\n",
              "  if (!files) {\n",
              "    return {\n",
              "      response: {\n",
              "        action: 'complete',\n",
              "      }\n",
              "    };\n",
              "  }\n",
              "\n",
              "  for (const file of files) {\n",
              "    const li = document.createElement('li');\n",
              "    li.append(span(file.name, {fontWeight: 'bold'}));\n",
              "    li.append(span(\n",
              "        `(${file.type || 'n/a'}) - ${file.size} bytes, ` +\n",
              "        `last modified: ${\n",
              "            file.lastModifiedDate ? file.lastModifiedDate.toLocaleDateString() :\n",
              "                                    'n/a'} - `));\n",
              "    const percent = span('0% done');\n",
              "    li.appendChild(percent);\n",
              "\n",
              "    outputElement.appendChild(li);\n",
              "\n",
              "    const fileDataPromise = new Promise((resolve) => {\n",
              "      const reader = new FileReader();\n",
              "      reader.onload = (e) => {\n",
              "        resolve(e.target.result);\n",
              "      };\n",
              "      reader.readAsArrayBuffer(file);\n",
              "    });\n",
              "    // Wait for the data to be ready.\n",
              "    let fileData = yield {\n",
              "      promise: fileDataPromise,\n",
              "      response: {\n",
              "        action: 'continue',\n",
              "      }\n",
              "    };\n",
              "\n",
              "    // Use a chunked sending to avoid message size limits. See b/62115660.\n",
              "    let position = 0;\n",
              "    do {\n",
              "      const length = Math.min(fileData.byteLength - position, MAX_PAYLOAD_SIZE);\n",
              "      const chunk = new Uint8Array(fileData, position, length);\n",
              "      position += length;\n",
              "\n",
              "      const base64 = btoa(String.fromCharCode.apply(null, chunk));\n",
              "      yield {\n",
              "        response: {\n",
              "          action: 'append',\n",
              "          file: file.name,\n",
              "          data: base64,\n",
              "        },\n",
              "      };\n",
              "\n",
              "      let percentDone = fileData.byteLength === 0 ?\n",
              "          100 :\n",
              "          Math.round((position / fileData.byteLength) * 100);\n",
              "      percent.textContent = `${percentDone}% done`;\n",
              "\n",
              "    } while (position < fileData.byteLength);\n",
              "  }\n",
              "\n",
              "  // All done.\n",
              "  yield {\n",
              "    response: {\n",
              "      action: 'complete',\n",
              "    }\n",
              "  };\n",
              "}\n",
              "\n",
              "scope.google = scope.google || {};\n",
              "scope.google.colab = scope.google.colab || {};\n",
              "scope.google.colab._files = {\n",
              "  _uploadFiles,\n",
              "  _uploadFilesContinue,\n",
              "};\n",
              "})(self);\n",
              "</script> "
            ]
          },
          "metadata": {}
        },
        {
          "output_type": "stream",
          "name": "stdout",
          "text": [
            "Saving Assignment7.txt to Assignment7 (1).txt\n",
            "Dictionary sorted by names:\n",
            "Ben,: 65\n",
            "Dares,: 100\n",
            "Hafiz,: 99\n",
            "Mamadou,: 77\n",
            "Mohammed,: 98\n",
            "Pierre,: 67\n",
            "\n",
            "Dictionary sorted by grades (highest to lowest):\n",
            "Dares,: 100\n",
            "Hafiz,: 99\n",
            "Mohammed,: 98\n",
            "Mamadou,: 77\n",
            "Pierre,: 67\n",
            "Ben,: 65\n"
          ]
        }
      ]
    },
    {
      "cell_type": "markdown",
      "source": [
        "# New Section"
      ],
      "metadata": {
        "id": "RKL_c8NaqsX6"
      }
    }
  ]
}