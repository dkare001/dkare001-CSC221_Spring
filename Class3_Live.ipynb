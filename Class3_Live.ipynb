{
  "nbformat": 4,
  "nbformat_minor": 0,
  "metadata": {
    "colab": {
      "provenance": [],
      "authorship_tag": "ABX9TyNhgPSkR6SNbX8WwRk9bw9z",
      "include_colab_link": true
    },
    "kernelspec": {
      "name": "python3",
      "display_name": "Python 3"
    },
    "language_info": {
      "name": "python"
    }
  },
  "cells": [
    {
      "cell_type": "markdown",
      "metadata": {
        "id": "view-in-github",
        "colab_type": "text"
      },
      "source": [
        "<a href=\"https://colab.research.google.com/github/dkare001/dkare001-CSC221_Spring/blob/main/Class3_Live.ipynb\" target=\"_parent\"><img src=\"https://colab.research.google.com/assets/colab-badge.svg\" alt=\"Open In Colab\"/></a>"
      ]
    },
    {
      "cell_type": "code",
      "execution_count": 4,
      "metadata": {
        "colab": {
          "base_uri": "https://localhost:8080/"
        },
        "id": "g6-7ikL25yL4",
        "outputId": "39ed02a6-89f4-4e5f-e8e6-54c5b626ece4"
      },
      "outputs": [
        {
          "output_type": "stream",
          "name": "stdout",
          "text": [
            "13 12.5 fred\n",
            "<class 'int'>\n",
            "<class 'float'>\n",
            "<class 'str'>\n"
          ]
        }
      ],
      "source": [
        "a = 13\n",
        "b = 12.5\n",
        "c = 'fred'\n",
        "\n",
        "print(a,b,c)\n",
        "\n",
        "print(type(a))\n",
        "print(type(b))\n",
        "print(type(c))\n"
      ]
    },
    {
      "cell_type": "code",
      "source": [
        "b = a**123\n",
        "print(type(b), b)"
      ],
      "metadata": {
        "colab": {
          "base_uri": "https://localhost:8080/"
        },
        "id": "mddi5wuA7qUj",
        "outputId": "ebdcc469-ad3e-45cb-ff26-c25084c866f3"
      },
      "execution_count": 5,
      "outputs": [
        {
          "output_type": "stream",
          "name": "stdout",
          "text": [
            "<class 'int'> 103521923711427330139508660561111399310356231562909825053544787423528887795603512927942762680653876132399975884814583882073552996857463797\n"
          ]
        }
      ]
    },
    {
      "cell_type": "code",
      "source": [
        "f2 = 1/3\n",
        "print(f2)"
      ],
      "metadata": {
        "colab": {
          "base_uri": "https://localhost:8080/"
        },
        "id": "cF3INMjA74lZ",
        "outputId": "c4fd2555-4350-43b1-8673-9137518643e0"
      },
      "execution_count": 6,
      "outputs": [
        {
          "output_type": "stream",
          "name": "stdout",
          "text": [
            "0.3333333333333333\n"
          ]
        }
      ]
    },
    {
      "cell_type": "code",
      "source": [
        "print(1/11)"
      ],
      "metadata": {
        "colab": {
          "base_uri": "https://localhost:8080/"
        },
        "id": "hZ_SfCIq8kNE",
        "outputId": "c65904ca-1e9d-47b3-dcb5-b0924710c408"
      },
      "execution_count": 7,
      "outputs": [
        {
          "output_type": "stream",
          "name": "stdout",
          "text": [
            "0.09090909090909091\n"
          ]
        }
      ]
    },
    {
      "cell_type": "code",
      "source": [
        "print(c)"
      ],
      "metadata": {
        "colab": {
          "base_uri": "https://localhost:8080/"
        },
        "id": "pOqfRWsJ8oiB",
        "outputId": "5e951f13-9c98-4d4e-c27c-9dd7390c44eb"
      },
      "execution_count": 8,
      "outputs": [
        {
          "output_type": "stream",
          "name": "stdout",
          "text": [
            "fred\n"
          ]
        }
      ]
    },
    {
      "cell_type": "code",
      "source": [
        "#A-Za-z_ foloowed by 09-A-Z-z_\n",
        "_3abc=12"
      ],
      "metadata": {
        "id": "6_Bea2-V8rnk"
      },
      "execution_count": 10,
      "outputs": []
    },
    {
      "cell_type": "code",
      "source": [
        "#Good and Bad Varable Names\n",
        "age_In_Years=20\n",
        "last_name='Kareem'\n",
        "first_name= 'Dares'\n",
        "\n",
        "print(f'age_in_years ={age_In_Years} and 4 squared is {4**2}')\n"
      ],
      "metadata": {
        "colab": {
          "base_uri": "https://localhost:8080/"
        },
        "id": "b5y6Bdeq-Ba3",
        "outputId": "2f8c8ed3-ad96-4ecf-f6dc-911bb0589075"
      },
      "execution_count": 14,
      "outputs": [
        {
          "output_type": "stream",
          "name": "stdout",
          "text": [
            "age_in_years =20 and 4 squared is 16\n"
          ]
        }
      ]
    },
    {
      "cell_type": "code",
      "source": [
        "#Intro to functions and Objects\n",
        "def f1(x):\n",
        "  y = 3 * x +2\n",
        "  return y\n",
        "\n",
        "def f2(x):\n",
        "  print(f'Hi I\\'m f2 and I got {x}')\n",
        "\n",
        "def f3(x):\n",
        "  print(f\"Hi I'm f3 and I got {x}\")\n",
        "\n",
        "y = f1(12)\n",
        "print(y)\n",
        "\n",
        "f2(12)\n",
        "f3(21)\n"
      ],
      "metadata": {
        "colab": {
          "base_uri": "https://localhost:8080/"
        },
        "id": "67oB4ZSb_gMa",
        "outputId": "45659e02-0800-416a-d0ea-ed04dabc8ae4"
      },
      "execution_count": 23,
      "outputs": [
        {
          "output_type": "stream",
          "name": "stdout",
          "text": [
            "38\n",
            "Hi I'm f2 and I got 12\n",
            "Hi I'm f3 and I got 21\n"
          ]
        }
      ]
    },
    {
      "cell_type": "code",
      "source": [
        "#Example Roll one Die 200 times What sum do you get??\n",
        "import random\n",
        "\n",
        "def roll():\n",
        "  r = random.randint(1,6)\n",
        "  return r\n",
        "\n",
        "for i in range(20):\n",
        "  print(i,roll())"
      ],
      "metadata": {
        "colab": {
          "base_uri": "https://localhost:8080/"
        },
        "id": "N7grUUNzDZXX",
        "outputId": "61a45220-13d4-4947-f3f2-c0b405c3dded"
      },
      "execution_count": 26,
      "outputs": [
        {
          "output_type": "stream",
          "name": "stdout",
          "text": [
            "0 4\n",
            "1 4\n",
            "2 6\n",
            "3 4\n",
            "4 3\n",
            "5 2\n",
            "6 5\n",
            "7 6\n",
            "8 6\n",
            "9 1\n",
            "10 2\n",
            "11 5\n",
            "12 2\n",
            "13 5\n",
            "14 3\n",
            "15 1\n",
            "16 6\n",
            "17 1\n",
            "18 3\n",
            "19 3\n",
            "20 5\n",
            "21 1\n",
            "22 2\n",
            "23 3\n",
            "24 2\n",
            "25 5\n",
            "26 1\n",
            "27 5\n",
            "28 5\n",
            "29 5\n",
            "30 5\n",
            "31 3\n",
            "32 3\n",
            "33 4\n",
            "34 2\n",
            "35 3\n",
            "36 3\n",
            "37 1\n",
            "38 1\n",
            "39 1\n",
            "40 4\n",
            "41 2\n",
            "42 4\n",
            "43 6\n",
            "44 1\n",
            "45 3\n",
            "46 5\n",
            "47 2\n",
            "48 4\n",
            "49 5\n",
            "50 5\n",
            "51 2\n",
            "52 3\n",
            "53 2\n",
            "54 2\n",
            "55 1\n",
            "56 4\n",
            "57 2\n",
            "58 1\n",
            "59 6\n",
            "60 2\n",
            "61 3\n",
            "62 4\n",
            "63 3\n",
            "64 3\n",
            "65 3\n",
            "66 4\n",
            "67 2\n",
            "68 5\n",
            "69 3\n",
            "70 5\n",
            "71 5\n",
            "72 5\n",
            "73 1\n",
            "74 1\n",
            "75 4\n",
            "76 1\n",
            "77 3\n",
            "78 1\n",
            "79 6\n",
            "80 6\n",
            "81 6\n",
            "82 1\n",
            "83 1\n",
            "84 5\n",
            "85 5\n",
            "86 3\n",
            "87 2\n",
            "88 6\n",
            "89 1\n",
            "90 4\n",
            "91 1\n",
            "92 3\n",
            "93 5\n",
            "94 6\n",
            "95 3\n",
            "96 2\n",
            "97 5\n",
            "98 4\n",
            "99 2\n",
            "100 4\n",
            "101 4\n",
            "102 4\n",
            "103 3\n",
            "104 2\n",
            "105 2\n",
            "106 1\n",
            "107 5\n",
            "108 6\n",
            "109 4\n",
            "110 3\n",
            "111 1\n",
            "112 2\n",
            "113 1\n",
            "114 3\n",
            "115 6\n",
            "116 6\n",
            "117 6\n",
            "118 4\n",
            "119 4\n",
            "120 3\n",
            "121 3\n",
            "122 5\n",
            "123 1\n",
            "124 1\n",
            "125 5\n",
            "126 3\n",
            "127 1\n",
            "128 1\n",
            "129 3\n",
            "130 4\n",
            "131 1\n",
            "132 2\n",
            "133 6\n",
            "134 3\n",
            "135 3\n",
            "136 2\n",
            "137 2\n",
            "138 3\n",
            "139 3\n",
            "140 2\n",
            "141 6\n",
            "142 2\n",
            "143 4\n",
            "144 3\n",
            "145 4\n",
            "146 2\n",
            "147 3\n",
            "148 1\n",
            "149 1\n",
            "150 2\n",
            "151 1\n",
            "152 4\n",
            "153 5\n",
            "154 6\n",
            "155 6\n",
            "156 1\n",
            "157 3\n",
            "158 1\n",
            "159 3\n",
            "160 6\n",
            "161 2\n",
            "162 3\n",
            "163 5\n",
            "164 3\n",
            "165 3\n",
            "166 6\n",
            "167 2\n",
            "168 1\n",
            "169 4\n",
            "170 3\n",
            "171 6\n",
            "172 5\n",
            "173 1\n",
            "174 3\n",
            "175 5\n",
            "176 3\n",
            "177 6\n",
            "178 5\n",
            "179 3\n",
            "180 4\n",
            "181 2\n",
            "182 1\n",
            "183 3\n",
            "184 3\n",
            "185 1\n",
            "186 2\n",
            "187 6\n",
            "188 5\n",
            "189 5\n",
            "190 4\n",
            "191 6\n",
            "192 3\n",
            "193 5\n",
            "194 4\n",
            "195 5\n",
            "196 1\n",
            "197 1\n",
            "198 6\n",
            "199 5\n"
          ]
        }
      ]
    },
    {
      "cell_type": "code",
      "source": [
        "#Example Roll one Die 200 times What sum do you get??\n",
        "import random\n",
        "\n",
        "def roll():\n",
        "  r = random.randint(1,6)\n",
        "  return r\n",
        "\n",
        "def roll_n_times(n):\n",
        "  total = 0\n",
        "  for i in range(n):\n",
        "    r1=roll\n",
        "    total = total + r1\n",
        "    #print(i,r1)\n",
        "  return total\n",
        "\n",
        "t1 = roll_n_times(5)\n",
        "t2 = roll_n_ties(200)"
      ],
      "metadata": {
        "colab": {
          "base_uri": "https://localhost:8080/",
          "height": 344
        },
        "id": "_4XwlxQlE1D4",
        "outputId": "9fc3de71-009f-4d3c-e4ad-16f930a414b0"
      },
      "execution_count": 32,
      "outputs": [
        {
          "output_type": "error",
          "ename": "TypeError",
          "evalue": "unsupported operand type(s) for +: 'int' and 'function'",
          "traceback": [
            "\u001b[0;31m---------------------------------------------------------------------------\u001b[0m",
            "\u001b[0;31mTypeError\u001b[0m                                 Traceback (most recent call last)",
            "\u001b[0;32m<ipython-input-32-a3dfaef44bb3>\u001b[0m in \u001b[0;36m<cell line: 16>\u001b[0;34m()\u001b[0m\n\u001b[1;32m     14\u001b[0m   \u001b[0;32mreturn\u001b[0m \u001b[0mtotal\u001b[0m\u001b[0;34m\u001b[0m\u001b[0;34m\u001b[0m\u001b[0m\n\u001b[1;32m     15\u001b[0m \u001b[0;34m\u001b[0m\u001b[0m\n\u001b[0;32m---> 16\u001b[0;31m \u001b[0mt1\u001b[0m \u001b[0;34m=\u001b[0m \u001b[0mroll_n_times\u001b[0m\u001b[0;34m(\u001b[0m\u001b[0;36m5\u001b[0m\u001b[0;34m)\u001b[0m\u001b[0;34m\u001b[0m\u001b[0;34m\u001b[0m\u001b[0m\n\u001b[0m\u001b[1;32m     17\u001b[0m \u001b[0mt2\u001b[0m \u001b[0;34m=\u001b[0m \u001b[0mroll_n_ties\u001b[0m\u001b[0;34m(\u001b[0m\u001b[0;36m200\u001b[0m\u001b[0;34m)\u001b[0m\u001b[0;34m\u001b[0m\u001b[0;34m\u001b[0m\u001b[0m\n",
            "\u001b[0;32m<ipython-input-32-a3dfaef44bb3>\u001b[0m in \u001b[0;36mroll_n_times\u001b[0;34m(n)\u001b[0m\n\u001b[1;32m     10\u001b[0m   \u001b[0;32mfor\u001b[0m \u001b[0mi\u001b[0m \u001b[0;32min\u001b[0m \u001b[0mrange\u001b[0m\u001b[0;34m(\u001b[0m\u001b[0mn\u001b[0m\u001b[0;34m)\u001b[0m\u001b[0;34m:\u001b[0m\u001b[0;34m\u001b[0m\u001b[0;34m\u001b[0m\u001b[0m\n\u001b[1;32m     11\u001b[0m     \u001b[0mr1\u001b[0m\u001b[0;34m=\u001b[0m\u001b[0mroll\u001b[0m\u001b[0;34m\u001b[0m\u001b[0;34m\u001b[0m\u001b[0m\n\u001b[0;32m---> 12\u001b[0;31m     \u001b[0mtotal\u001b[0m \u001b[0;34m=\u001b[0m \u001b[0mtotal\u001b[0m \u001b[0;34m+\u001b[0m \u001b[0mr1\u001b[0m\u001b[0;34m\u001b[0m\u001b[0;34m\u001b[0m\u001b[0m\n\u001b[0m\u001b[1;32m     13\u001b[0m     \u001b[0;31m#print(i,r1)\u001b[0m\u001b[0;34m\u001b[0m\u001b[0;34m\u001b[0m\u001b[0m\n\u001b[1;32m     14\u001b[0m   \u001b[0;32mreturn\u001b[0m \u001b[0mtotal\u001b[0m\u001b[0;34m\u001b[0m\u001b[0;34m\u001b[0m\u001b[0m\n",
            "\u001b[0;31mTypeError\u001b[0m: unsupported operand type(s) for +: 'int' and 'function'"
          ]
        }
      ]
    },
    {
      "cell_type": "markdown",
      "source": [
        "# *Ned Lecky*\n",
        "*Class 3*\n",
        "##*Live 2/5/2024*\n"
      ],
      "metadata": {
        "id": "kWspY6ns6TPQ"
      }
    }
  ]
}