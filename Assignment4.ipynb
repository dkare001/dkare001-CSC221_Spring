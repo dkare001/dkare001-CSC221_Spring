{
  "nbformat": 4,
  "nbformat_minor": 0,
  "metadata": {
    "colab": {
      "provenance": [],
      "authorship_tag": "ABX9TyNr6pZRBkchFs6DR60TwkJK",
      "include_colab_link": true
    },
    "kernelspec": {
      "name": "python3",
      "display_name": "Python 3"
    },
    "language_info": {
      "name": "python"
    }
  },
  "cells": [
    {
      "cell_type": "markdown",
      "metadata": {
        "id": "view-in-github",
        "colab_type": "text"
      },
      "source": [
        "<a href=\"https://colab.research.google.com/github/dkare001/dkare001-CSC221_Spring/blob/main/Assignment4.ipynb\" target=\"_parent\"><img src=\"https://colab.research.google.com/assets/colab-badge.svg\" alt=\"Open In Colab\"/></a>"
      ]
    },
    {
      "cell_type": "code",
      "execution_count": null,
      "metadata": {
        "colab": {
          "base_uri": "https://localhost:8080/"
        },
        "id": "XTmlimV8f_S8",
        "outputId": "deaf80aa-656f-4a63-eece-879081ca9dd4"
      },
      "outputs": [
        {
          "output_type": "stream",
          "name": "stdout",
          "text": [
            "['beverly', 'jacob', 'micheal', 'marie']\n",
            "beverly\n",
            "jacob\n",
            "micheal\n",
            "marie\n"
          ]
        }
      ],
      "source": [
        "#3-1. Names:Store the names of a few of your friends in a list called names. Print each person’s name by accessing each element in the list, one at a time.\n",
        "names = ['beverly', 'jacob', 'micheal', 'marie']\n",
        "print(names)\n",
        "print(names[0])\n",
        "print(names[1])\n",
        "print(names[2])\n",
        "print(names[3])"
      ]
    },
    {
      "cell_type": "code",
      "source": [
        "#3-2. Greetings:\n",
        "names = ['beverly', 'jacob', 'micheal', 'marie']\n",
        "message = (f\"Hello this is my friend, {names[3]}\")\n",
        "message1 = (f\"Hello this is my friend, {names[0]}\")\n",
        "message2= (f\"Hello this is my friend, {names[1]}\")\n",
        "message3 = (f\"Hello this is my friend, {names[2]}\")\n",
        "\n",
        "print(message)\n",
        "print(message1)\n",
        "print(message2)\n",
        "print(message3)"
      ],
      "metadata": {
        "colab": {
          "base_uri": "https://localhost:8080/"
        },
        "id": "4Oau74iblUJN",
        "outputId": "a1045933-411c-4b71-c19c-a012b8023293"
      },
      "execution_count": null,
      "outputs": [
        {
          "output_type": "stream",
          "name": "stdout",
          "text": [
            "Hello this is my friend, marie\n",
            "Hello this is my friend, beverly\n",
            "Hello this is my friend, jacob\n",
            "Hello this is my friend, micheal\n"
          ]
        }
      ]
    },
    {
      "cell_type": "code",
      "source": [
        "#3-3. Your Own List:\n",
        "cars = ['toyta', 'tesla','mecerdes', 'honda','jeep', 'mazda']\n",
        "print(f'I used to drive a {cars[3]}.')\n",
        "print(f'I want to buy a {cars[5]}.')\n",
        "print(f'My friend drive a {cars[0]}')\n",
        "print(f'I would like to own a {cars[4]}')"
      ],
      "metadata": {
        "colab": {
          "base_uri": "https://localhost:8080/"
        },
        "id": "dkhjyxR5oNGi",
        "outputId": "53da53b3-2057-4b74-d8ff-b9b84e10d494"
      },
      "execution_count": null,
      "outputs": [
        {
          "output_type": "stream",
          "name": "stdout",
          "text": [
            "I used to drive a honda.\n",
            "I want to buy a mazda.\n",
            "My friend drive a toyta\n",
            "I would like to own a jeep\n"
          ]
        }
      ]
    },
    {
      "cell_type": "code",
      "source": [
        "#3-5. Changing Guest List:\n",
        "guests = ['Marsai Martin','Drake','Elon Musk','Obama']\n",
        "message = f' would you like to come over for dinner?'\n",
        "print(f'Hello, {guests[0]} {message}')\n",
        "print(f'Hello, {guests[1]} {message}')\n",
        "print(f'Hello, {guests[2]} {message}')\n",
        "print(f'Hello, {guests[3]} {message}')"
      ],
      "metadata": {
        "colab": {
          "base_uri": "https://localhost:8080/"
        },
        "id": "_f8TlNgXu3Z6",
        "outputId": "d0bd3f54-b4dc-4c33-f76d-2dac47182f19"
      },
      "execution_count": null,
      "outputs": [
        {
          "output_type": "stream",
          "name": "stdout",
          "text": [
            "Hello, Marsai Martin  would you like to come over for dinner?\n",
            "Hello, Drake  would you like to come over for dinner?\n",
            "Hello, Elon Musk  would you like to come over for dinner?\n",
            "Hello, Obama  would you like to come over for dinner?\n"
          ]
        }
      ]
    },
    {
      "cell_type": "code",
      "source": [
        "#3-6. More Guests\n",
        "guests = ['Marsai Martin','Drake','Elon Musk','Obama']\n",
        "message = f' would you like to come over for dinner?'\n",
        "print(f'Hello, {guests[0]} {message}')\n",
        "print(f'Hello, {guests[1]} {message}')\n",
        "print(f'Hello, {guests[2]} {message}')\n",
        "print(f'Hello, {guests[3]} {message}')\n",
        "\n",
        "print(f'Unfortunaly, {guests[3]} can not make the dinner.')\n",
        "\n",
        "guests[3] = \"Messi\"\n",
        "print(f'Hello, {guests[0]} {message}')\n",
        "print(f'Hello, {guests[1]} {message}')\n",
        "print(f'Hello, {guests[2]} {message}')\n",
        "print(f'Hello, {guests[3]} {message}')\n"
      ],
      "metadata": {
        "colab": {
          "base_uri": "https://localhost:8080/"
        },
        "id": "jJ4PnSRnyfFf",
        "outputId": "a37ef31f-6ab0-45da-ccef-d67a59dc1675"
      },
      "execution_count": null,
      "outputs": [
        {
          "output_type": "stream",
          "name": "stdout",
          "text": [
            "Hello, Marsai Martin  would you like to come over for dinner?\n",
            "Hello, Drake  would you like to come over for dinner?\n",
            "Hello, Elon Musk  would you like to come over for dinner?\n",
            "Hello, Obama  would you like to come over for dinner?\n",
            "Unfortunaly, Obama can not make the dinner.\n",
            "Hello, Marsai Martin  would you like to come over for dinner?\n",
            "Hello, Drake  would you like to come over for dinner?\n",
            "Hello, Elon Musk  would you like to come over for dinner?\n",
            "Hello, Messi  would you like to come over for dinner?\n"
          ]
        }
      ]
    },
    {
      "cell_type": "code",
      "source": [
        "#3-6. More Guests:\n",
        "\n",
        "guests = ['Marsai Martin','Drake','Elon Musk','Obama']\n",
        "message = f' would you like to come over for dinner?'\n",
        "print(f'Hello, {guests[0]} {message}')\n",
        "print(f'Hello, {guests[1]} {message}')\n",
        "print(f'Hello, {guests[2]} {message}')\n",
        "print(f'Hello, {guests[3]} {message}')\n",
        "\n",
        "print(f'\\nUnfortunaly, {guests[3]} can not make the dinner.')\n",
        "guests[3] = \"Messi\"\n",
        "print('\\nHey guys I found a bigger table.\\n')\n",
        "\n",
        "guests.append('Jeff Bezos')\n",
        "guests.insert(0,'Ronaldo')\n",
        "guests.insert(2,'Oprah')\n",
        "\n",
        "print(f'Hello, {guests[0]} {message}')\n",
        "print(f'Hello, {guests[1]} {message}')\n",
        "print(f'Hello, {guests[2]} {message}')\n",
        "print(f'Hello, {guests[3]} {message}')\n",
        "print(f'Hello, {guests[4]} {message}')\n",
        "print(f'Hello, {guests[5]} {message}')\n",
        "print(f'Hello, {guests[6]} {message}')"
      ],
      "metadata": {
        "colab": {
          "base_uri": "https://localhost:8080/"
        },
        "id": "EV6P5s0Q2FCs",
        "outputId": "7947ec43-3a1d-48e9-cf4b-32733a391079"
      },
      "execution_count": null,
      "outputs": [
        {
          "output_type": "stream",
          "name": "stdout",
          "text": [
            "Hello, Marsai Martin  would you like to come over for dinner?\n",
            "Hello, Drake  would you like to come over for dinner?\n",
            "Hello, Elon Musk  would you like to come over for dinner?\n",
            "Hello, Obama  would you like to come over for dinner?\n",
            "\n",
            "Unfortunaly, Obama can not make the dinner.\n",
            "\n",
            "Hey guys I found a bigger table.\n",
            "\n",
            "Hello, Ronaldo  would you like to come over for dinner?\n",
            "Hello, Marsai Martin  would you like to come over for dinner?\n",
            "Hello, Oprah  would you like to come over for dinner?\n",
            "Hello, Drake  would you like to come over for dinner?\n",
            "Hello, Elon Musk  would you like to come over for dinner?\n",
            "Hello, Messi  would you like to come over for dinner?\n",
            "Hello, Jeff Bezos  would you like to come over for dinner?\n"
          ]
        }
      ]
    },
    {
      "cell_type": "code",
      "source": [
        "#3-7. Shrinking Guest List:\n",
        "\n",
        "guests = ['Marsai Martin', 'Drake', 'Elon Musk', 'Obama']\n",
        "message = ' would you like to come over for dinner?'\n",
        "print(f'Hello, {guests[0]}{message}')\n",
        "print(f'Hello, {guests[1]}{message}')\n",
        "print(f'Hello, {guests[2]}{message}')\n",
        "print(f'Hello, {guests[3]}{message}')\n",
        "\n",
        "print(f'\\nUnfortunately, {guests[3]} cannot make the dinner.')\n",
        "guests[3] = \"Messi\"\n",
        "print('\\nHey guys, I found a bigger table.\\n')\n",
        "\n",
        "guests.append('Jeff Bezos')\n",
        "guests.insert(0, 'Ronaldo')\n",
        "guests.insert(2, 'Oprah')\n",
        "\n",
        "print(f'Hello, {guests[0]}{message}')\n",
        "print(f'Hello, {guests[1]}{message}')\n",
        "print(f'Hello, {guests[2]}{message}')\n",
        "print(f'Hello, {guests[3]}{message}')\n",
        "print(f'Hello, {guests[4]}{message}')\n",
        "print(f'Hello, {guests[5]}{message}')\n",
        "print(f'Hello, {guests[6]}{message}')\n",
        "\n",
        "print('\\nSorry guys, I can only invite two people for dinner.\\n')\n",
        "\n",
        "print(f'Sorry {guests[2]} but you have to uninvited to the dinner')\n",
        "guests.pop(2)\n",
        "print(f'Sorry {guests[3]} but you have to uninvited to the dinner')\n",
        "guests.pop(3)\n",
        "print(f'Sorry {guests[0]} but you have to uninvited to the dinner')\n",
        "guests.pop(0)\n",
        "print(f'Sorry {guests[1]} but you have to uninvited to the dinner')\n",
        "guests.pop(1)\n",
        "print(f'Sorry {guests[2]} but you have to uninvited to the dinner\\n')\n",
        "guests.pop(2)\n",
        "\n",
        "print(f'Hey, {guests[1]} you are still invited to the dinner!')\n",
        "print(f'Hey, {guests[0]} you are still invited to the dinner!')\n",
        "del guests[1]\n",
        "del guests[0]\n",
        "print(guests)\n"
      ],
      "metadata": {
        "colab": {
          "base_uri": "https://localhost:8080/"
        },
        "id": "vZuQNy-L5a1h",
        "outputId": "ba989133-c476-44fc-bf4f-1f897bb733fc"
      },
      "execution_count": null,
      "outputs": [
        {
          "output_type": "stream",
          "name": "stdout",
          "text": [
            "Hello, Marsai Martin would you like to come over for dinner?\n",
            "Hello, Drake would you like to come over for dinner?\n",
            "Hello, Elon Musk would you like to come over for dinner?\n",
            "Hello, Obama would you like to come over for dinner?\n",
            "\n",
            "Unfortunately, Obama cannot make the dinner.\n",
            "\n",
            "Hey guys, I found a bigger table.\n",
            "\n",
            "Hello, Ronaldo would you like to come over for dinner?\n",
            "Hello, Marsai Martin would you like to come over for dinner?\n",
            "Hello, Oprah would you like to come over for dinner?\n",
            "Hello, Drake would you like to come over for dinner?\n",
            "Hello, Elon Musk would you like to come over for dinner?\n",
            "Hello, Messi would you like to come over for dinner?\n",
            "Hello, Jeff Bezos would you like to come over for dinner?\n",
            "\n",
            "Sorry guys, I can only invite two people for dinner.\n",
            "\n",
            "Sorry Oprah but you have to uninvited to the dinner\n",
            "Sorry Elon Musk but you have to uninvited to the dinner\n",
            "Sorry Ronaldo but you have to uninvited to the dinner\n",
            "Sorry Drake but you have to uninvited to the dinner\n",
            "Sorry Jeff Bezos but you have to uninvited to the dinner\n",
            "\n",
            "Hey, Messi you are still invited to the dinner!\n",
            "Hey, Marsai Martin you are still invited to the dinner!\n",
            "[]\n"
          ]
        }
      ]
    },
    {
      "cell_type": "code",
      "source": [
        "#3-8. Seeing the World:\n",
        "places = ['dubai', 'jamaica', 'spain', 'columbia', 'japan']\n",
        "print(f'{places}\\n')\n",
        "\n",
        "print(sorted(places))\n",
        "print(f'\\n{places}')\n",
        "\n",
        "print(sorted(places, reverse=True))\n",
        "print(f'{places}\\n')\n",
        "places.reverse()\n",
        "print(places)\n",
        "\n",
        "places.reverse()\n",
        "print(places)\n",
        "\n",
        "places.sort()\n",
        "print(places)\n",
        "\n",
        "places.sort(reverse = True)\n",
        "print(places)"
      ],
      "metadata": {
        "colab": {
          "base_uri": "https://localhost:8080/"
        },
        "id": "JMukX5gHBj8B",
        "outputId": "67312a68-3f9b-4f5c-c116-3fe0f885a4de"
      },
      "execution_count": 47,
      "outputs": [
        {
          "output_type": "stream",
          "name": "stdout",
          "text": [
            "['dubai', 'jamaica', 'spain', 'columbia', 'japan']\n",
            "\n",
            "['columbia', 'dubai', 'jamaica', 'japan', 'spain']\n",
            "\n",
            "['dubai', 'jamaica', 'spain', 'columbia', 'japan']\n",
            "['spain', 'japan', 'jamaica', 'dubai', 'columbia']\n",
            "['dubai', 'jamaica', 'spain', 'columbia', 'japan']\n",
            "\n",
            "['japan', 'columbia', 'spain', 'jamaica', 'dubai']\n",
            "['dubai', 'jamaica', 'spain', 'columbia', 'japan']\n",
            "['columbia', 'dubai', 'jamaica', 'japan', 'spain']\n",
            "['spain', 'japan', 'jamaica', 'dubai', 'columbia']\n"
          ]
        }
      ]
    },
    {
      "cell_type": "code",
      "source": [
        "#3-9. Dinner Guests\n",
        "guests = ['Marsai Martin','Drake','Elon Musk','Obama']\n",
        "message = f'The amount of people invited are {len(guests)}'\n",
        "print(message)"
      ],
      "metadata": {
        "colab": {
          "base_uri": "https://localhost:8080/"
        },
        "id": "zAJoTCGsgYd1",
        "outputId": "293bb3f3-c1ea-4189-be33-cc0d0762d9ea"
      },
      "execution_count": 52,
      "outputs": [
        {
          "output_type": "stream",
          "name": "stdout",
          "text": [
            "The amount of people invited are 4\n"
          ]
        }
      ]
    },
    {
      "cell_type": "code",
      "source": [
        "snacks = ['skittles', 'oreos', 'fruits', 'cake']\n",
        "print(f' My favorite snack to eat is {snacks[3]}')\n",
        "\n",
        "#sort, sorted, reverse\n",
        "print(sorted(snacks))\n",
        "print(f'\\n{snacks}')\n",
        "\n",
        "print(sorted(snacks, reverse=True))\n",
        "print(f'{snacks}\\n')\n",
        "snacks.reverse()\n",
        "print(snacks)\n",
        "\n",
        "snacks.reverse()\n",
        "print(snacks)\n",
        "\n",
        "snacks.sort()\n",
        "print(snacks)\n",
        "\n",
        "snacks.sort(reverse = True)\n",
        "print(snacks)\n",
        "\n",
        "#pop,del, insert, append,\n",
        "snacks.insert(2,'snickers')\n",
        "message = ' because they taste amazing!'\n",
        "print(f'I Like, {snacks[0]}{message}')\n",
        "print(f'I Like, {snacks[1]}{message}')\n",
        "print(f'I Like, {snacks[2]}{message}')\n",
        "print(f'I Like, {snacks[3]}{message}')\n",
        "\n",
        "print(f'\\nUnfortunately, {snacks[3]} are not appealing to me anymore.')\n",
        "snacks[3] = \"Popcorn\"\n",
        "print('\\n I found some new snacks I like \\n')\n",
        "\n",
        "snacks.append('Lays')\n",
        "snacks.insert(0, 'Pringles')\n",
        "snacks.insert(2, 'Starburst')\n",
        "\n",
        "print(f'I Like, {snacks[0]}{message}')\n",
        "print(f'I Like, {snacks[1]}{message}')\n",
        "print(f'I Like, {snacks[2]}{message}')\n",
        "print(f'I Like, {snacks[3]}{message}')\n",
        "print(f'I Like, {snacks[4]}{message}')\n",
        "print(f'I Like, {snacks[5]}{message}')\n",
        "print(f'I Like, {snacks[6]}{message}')\n",
        "\n",
        "print('\\nSorry guys, I can only have two favorite snacks.\\n')\n",
        "\n",
        "print(f'I dont like {snacks[2]} anymore')\n",
        "snacks.pop(2)\n",
        "print(f'I dont like {snacks[3]} anymore')\n",
        "snacks.pop(3)\n",
        "print(f'I dont like {snacks[0]} anymore')\n",
        "snacks.pop(0)\n",
        "print(f'I dont like {snacks[1]} anymore')\n",
        "snacks.pop(1)\n",
        "print(f'I dont like {snacks[2]} anymore\\n')\n",
        "snacks.pop(2)\n",
        "\n",
        "del snacks[0]\n",
        "del snacks[0]\n",
        "print(f'I still like, {snacks[0]}!')\n",
        "\n",
        "print(snacks)\n"
      ],
      "metadata": {
        "colab": {
          "base_uri": "https://localhost:8080/"
        },
        "id": "3uDytQFghh0-",
        "outputId": "2bf0a3f6-d38b-4196-e80c-1f8e42642ffc"
      },
      "execution_count": 68,
      "outputs": [
        {
          "output_type": "stream",
          "name": "stdout",
          "text": [
            " My favorite snack to eat is cake\n",
            "['cake', 'fruits', 'oreos', 'skittles']\n",
            "\n",
            "['skittles', 'oreos', 'fruits', 'cake']\n",
            "['skittles', 'oreos', 'fruits', 'cake']\n",
            "['skittles', 'oreos', 'fruits', 'cake']\n",
            "\n",
            "['cake', 'fruits', 'oreos', 'skittles']\n",
            "['skittles', 'oreos', 'fruits', 'cake']\n",
            "['cake', 'fruits', 'oreos', 'skittles']\n",
            "['skittles', 'oreos', 'fruits', 'cake']\n",
            "I Like, skittles because they taste amazing!\n",
            "I Like, oreos because they taste amazing!\n",
            "I Like, snickers because they taste amazing!\n",
            "I Like, fruits because they taste amazing!\n",
            "\n",
            "Unfortunately, fruits are not appealing to me anymore.\n",
            "\n",
            " I found some new snacks I like \n",
            "\n",
            "I Like, Pringles because they taste amazing!\n",
            "I Like, skittles because they taste amazing!\n",
            "I Like, Starburst because they taste amazing!\n",
            "I Like, oreos because they taste amazing!\n",
            "I Like, snickers because they taste amazing!\n",
            "I Like, Popcorn because they taste amazing!\n",
            "I Like, cake because they taste amazing!\n",
            "\n",
            "Sorry guys, I can only have two favorite snacks.\n",
            "\n",
            "I dont like Starburst anymore\n",
            "I dont like snickers anymore\n",
            "I dont like Pringles anymore\n",
            "I dont like oreos anymore\n",
            "I dont like cake anymore\n",
            "\n",
            "I still like, Lays!\n",
            "['Lays']\n"
          ]
        }
      ]
    },
    {
      "cell_type": "markdown",
      "source": [],
      "metadata": {
        "id": "VYCKWIOvhW-e"
      }
    }
  ]
}