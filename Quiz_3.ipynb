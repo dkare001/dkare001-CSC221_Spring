{
  "nbformat": 4,
  "nbformat_minor": 0,
  "metadata": {
    "colab": {
      "provenance": [],
      "authorship_tag": "ABX9TyMX3jfHH2kGIiXlL/NdTElJ",
      "include_colab_link": true
    },
    "kernelspec": {
      "name": "python3",
      "display_name": "Python 3"
    },
    "language_info": {
      "name": "python"
    }
  },
  "cells": [
    {
      "cell_type": "markdown",
      "metadata": {
        "id": "view-in-github",
        "colab_type": "text"
      },
      "source": [
        "<a href=\"https://colab.research.google.com/github/dkare001/dkare001-CSC221_Spring/blob/main/Quiz_3.ipynb\" target=\"_parent\"><img src=\"https://colab.research.google.com/assets/colab-badge.svg\" alt=\"Open In Colab\"/></a>"
      ]
    },
    {
      "cell_type": "code",
      "execution_count": 4,
      "metadata": {
        "colab": {
          "base_uri": "https://localhost:8080/"
        },
        "id": "WAoAirY6K0zN",
        "outputId": "b08af643-15b1-40f4-af63-31518e0b0e1a"
      },
      "outputs": [
        {
          "output_type": "stream",
          "name": "stdout",
          "text": [
            "There are 4 fruits\n"
          ]
        }
      ],
      "source": [
        "#len\n",
        "fruits = [\"apple\", \"banana\", \"cherry\", \"orange\"]\n",
        "\n",
        "amount = len(fruits)\n",
        "print(f\"There are {amount} fruits\")\n"
      ]
    },
    {
      "cell_type": "code",
      "source": [
        "#dict\n",
        "id = dict(name=\"Dares\", age=\"20\", city=\"New York\")\n",
        "print(f\"Information: {id}\")\n"
      ],
      "metadata": {
        "colab": {
          "base_uri": "https://localhost:8080/"
        },
        "id": "PdQfrO8qMz-b",
        "outputId": "3de3df7c-696d-4ffa-f0e1-1ae6704bf0b7"
      },
      "execution_count": 12,
      "outputs": [
        {
          "output_type": "stream",
          "name": "stdout",
          "text": [
            "Information: {'name': 'Dares', 'age': '20', 'city': 'New York'}\n"
          ]
        }
      ]
    },
    {
      "cell_type": "code",
      "source": [
        "#bin\n",
        "decimal_number = 24\n",
        "binary = bin(decimal_number)\n",
        "\n",
        "print(f\"Binary of {decimal_number} is {binary}\")\n"
      ],
      "metadata": {
        "colab": {
          "base_uri": "https://localhost:8080/"
        },
        "id": "PYq1BBawNc7d",
        "outputId": "452a2f8c-0e6c-4d82-c353-6f668d0daa8f"
      },
      "execution_count": 15,
      "outputs": [
        {
          "output_type": "stream",
          "name": "stdout",
          "text": [
            "Binary of, 24, is:, 0b11000\n"
          ]
        }
      ]
    },
    {
      "cell_type": "code",
      "source": [
        "#list()\n",
        "numbers = [1, 2, 3, 4, 5]\n",
        "print(f\"List:{numbers}\")"
      ],
      "metadata": {
        "colab": {
          "base_uri": "https://localhost:8080/"
        },
        "id": "SbNMfhQ1Orv8",
        "outputId": "716cabde-655d-4e36-eba6-8155d070b7bc"
      },
      "execution_count": 17,
      "outputs": [
        {
          "output_type": "stream",
          "name": "stdout",
          "text": [
            "List:[1, 2, 3, 4, 5]\n"
          ]
        }
      ]
    },
    {
      "cell_type": "code",
      "source": [
        "#print\n",
        "print(\"Hi I am Dares\")"
      ],
      "metadata": {
        "id": "nailjoWaQM1w"
      },
      "execution_count": null,
      "outputs": []
    },
    {
      "cell_type": "code",
      "source": [
        "#import\n",
        "class Cat:\n",
        "  def __init__(self, name, age):\n",
        "    self.name = name\n",
        "    self.age = age\n",
        "\n",
        "my_cat = Cat('James', 12)\n",
        "\n",
        "print(f\"My cats name is {my_cat.name}.\")"
      ],
      "metadata": {
        "colab": {
          "base_uri": "https://localhost:8080/"
        },
        "id": "zkaTKPGvQTQP",
        "outputId": "b85c4b0d-4e04-4a6b-ce58-5b2cc2561f05"
      },
      "execution_count": 28,
      "outputs": [
        {
          "output_type": "stream",
          "name": "stdout",
          "text": [
            "My cats name is James.\n"
          ]
        }
      ]
    },
    {
      "cell_type": "code",
      "source": [
        "#Sum\n",
        "numbers = [4, 3, 23, 4, 5]\n",
        "total = sum(numbers)\n",
        "\n",
        "print(f\"Total = {total}\")\n"
      ],
      "metadata": {
        "colab": {
          "base_uri": "https://localhost:8080/"
        },
        "id": "_VHQ6hUQRFr0",
        "outputId": "77914508-3407-46a8-a307-e01fdd4c356d"
      },
      "execution_count": 21,
      "outputs": [
        {
          "output_type": "stream",
          "name": "stdout",
          "text": [
            "Total = 39\n"
          ]
        }
      ]
    },
    {
      "cell_type": "code",
      "source": [
        "#input\n",
        "age = input(\"How old are you? \")\n",
        "print(f\"You are {age} years old.\")"
      ],
      "metadata": {
        "colab": {
          "base_uri": "https://localhost:8080/"
        },
        "id": "0ZC5_cSSRd3N",
        "outputId": "fac8a657-9d7e-46a0-8184-ed35dade84d4"
      },
      "execution_count": 26,
      "outputs": [
        {
          "output_type": "stream",
          "name": "stdout",
          "text": [
            "How old are you? 45\n",
            "You are 45 years old.\n"
          ]
        }
      ]
    },
    {
      "cell_type": "code",
      "source": [
        "#tuple\n",
        "fruits = [\"apple\", \"banana\", \"cherry\", \"orange\"]\n",
        "fruits_tuple = tuple(fruits)\n",
        "\n",
        "print(f\"Fuits: {fruits_tuple}\")\n"
      ],
      "metadata": {
        "colab": {
          "base_uri": "https://localhost:8080/"
        },
        "id": "iP6M62IOSq8c",
        "outputId": "2aaa7d2a-36c2-4d3d-e788-82c56111f27f"
      },
      "execution_count": 31,
      "outputs": [
        {
          "output_type": "stream",
          "name": "stdout",
          "text": [
            "Fuits, ('apple', 'banana', 'cherry', 'orange')\n"
          ]
        }
      ]
    },
    {
      "cell_type": "code",
      "source": [
        "#range\n",
        "for num in range(1, 10):\n",
        "    print(num)"
      ],
      "metadata": {
        "colab": {
          "base_uri": "https://localhost:8080/"
        },
        "id": "kYr2HmDmUssL",
        "outputId": "0c832b8a-6789-483e-83ee-1e71f5e76c90"
      },
      "execution_count": 32,
      "outputs": [
        {
          "output_type": "stream",
          "name": "stdout",
          "text": [
            "1\n",
            "2\n",
            "3\n",
            "4\n",
            "5\n",
            "6\n",
            "7\n",
            "8\n",
            "9\n"
          ]
        }
      ]
    },
    {
      "cell_type": "code",
      "source": [
        "#reversed\n",
        "names = ['Dares', 'Ben', 'Dillig', 'Mo']\n",
        "reversedNames = list(reversed(names))\n",
        "\n",
        "print(f\"Names, {names}\")\n",
        "print(f\"Reversed, {reversedNames}\")\n"
      ],
      "metadata": {
        "colab": {
          "base_uri": "https://localhost:8080/"
        },
        "id": "z496br6eVJm1",
        "outputId": "57a81dbd-58fc-4ed5-e856-e4308d8268b2"
      },
      "execution_count": 36,
      "outputs": [
        {
          "output_type": "stream",
          "name": "stdout",
          "text": [
            "Names, ['Dares', 'Ben', 'Dillig', 'Mo']\n",
            "Reversed, ['Mo', 'Dillig', 'Ben', 'Dares']\n"
          ]
        }
      ]
    },
    {
      "cell_type": "code",
      "source": [
        "#format\n",
        "name = \"Dares\"\n",
        "age = 20\n",
        "text = \"My name is {} and I am {} years old.\".format(name, age)\n",
        "print(text)\n"
      ],
      "metadata": {
        "colab": {
          "base_uri": "https://localhost:8080/"
        },
        "id": "ZAu4b5GbUnPs",
        "outputId": "15941d2b-cf37-4e9e-aee0-39ec2d7de569"
      },
      "execution_count": 41,
      "outputs": [
        {
          "output_type": "stream",
          "name": "stdout",
          "text": [
            "My name is Dares and I am 20 years old.\n"
          ]
        }
      ]
    },
    {
      "cell_type": "code",
      "source": [
        "#local\n",
        "def student_info():\n",
        "    name = \"Dares Kareem\"\n",
        "    year = \"Sophomore\"\n",
        "    student = locals()\n",
        "    print(f\"Student information {student}\")\n",
        "\n",
        "student_info()\n"
      ],
      "metadata": {
        "colab": {
          "base_uri": "https://localhost:8080/"
        },
        "id": "C77EjZkJW7lM",
        "outputId": "52668b3e-5a2f-4618-bd7d-3c850393e50c"
      },
      "execution_count": 47,
      "outputs": [
        {
          "output_type": "stream",
          "name": "stdout",
          "text": [
            "Student information {'name': 'Dares Kareem', 'year': 'Sophomore'}\n"
          ]
        }
      ]
    },
    {
      "cell_type": "code",
      "source": [
        "#id\n",
        "person = \"Dares\"\n",
        "person_id = id(person)\n",
        "\n",
        "print(person)\n",
        "print(person_id)\n"
      ],
      "metadata": {
        "colab": {
          "base_uri": "https://localhost:8080/"
        },
        "id": "yR11pPGtYUyy",
        "outputId": "31c49fdb-f242-4291-90a1-36f95824aba6"
      },
      "execution_count": 63,
      "outputs": [
        {
          "output_type": "stream",
          "name": "stdout",
          "text": [
            "Dares\n",
            "Dares\n"
          ]
        }
      ]
    },
    {
      "cell_type": "code",
      "source": [
        "#globals\n",
        "students = 0\n",
        "\n",
        "def add_student(number):\n",
        "    global students\n",
        "    students += number\n",
        "\n",
        "print(\"Starting students:\", students)\n",
        "\n",
        "add_student(1)\n",
        "\n",
        "print(\"New students:\", students)"
      ],
      "metadata": {
        "colab": {
          "base_uri": "https://localhost:8080/"
        },
        "id": "N_Ul8b_3aIDh",
        "outputId": "796cae9b-ed6a-47ec-fbd3-0e840c8c8e06"
      },
      "execution_count": 64,
      "outputs": [
        {
          "output_type": "stream",
          "name": "stdout",
          "text": [
            "Starting students: 0\n",
            "New students: 1\n"
          ]
        }
      ]
    },
    {
      "cell_type": "code",
      "source": [
        "#next\n",
        "numbers = [1, 2, 3, 4, 5]\n",
        "iterator = iter(numbers)\n",
        "\n",
        "try:\n",
        "    while True:\n",
        "        value = next(iterator)\n",
        "        print(value)\n",
        "except StopIteration:\n",
        "    print(\"Done\")\n"
      ],
      "metadata": {
        "colab": {
          "base_uri": "https://localhost:8080/"
        },
        "id": "WxzMoBJBbMHw",
        "outputId": "55f6f13c-a303-4c93-90b9-159fca0df407"
      },
      "execution_count": 70,
      "outputs": [
        {
          "output_type": "stream",
          "name": "stdout",
          "text": [
            "1\n",
            "2\n",
            "3\n",
            "4\n",
            "5\n",
            "Done\n"
          ]
        }
      ]
    },
    {
      "cell_type": "code",
      "source": [
        "#iter\n",
        "numbers = [1, 2, 3, 4, 5]\n",
        "numbers_iter = iter(numbers)\n",
        "\n",
        "for num in numbers_iter:\n",
        "    print(num)"
      ],
      "metadata": {
        "colab": {
          "base_uri": "https://localhost:8080/"
        },
        "id": "lFit-kq0b-j5",
        "outputId": "581d72e1-34ac-4947-be29-cd138365fcc7"
      },
      "execution_count": 71,
      "outputs": [
        {
          "output_type": "stream",
          "name": "stdout",
          "text": [
            "1\n",
            "2\n",
            "3\n",
            "4\n",
            "5\n"
          ]
        }
      ]
    },
    {
      "cell_type": "code",
      "source": [
        "#str\n",
        "print(str(\"Hello, world!\"))"
      ],
      "metadata": {
        "colab": {
          "base_uri": "https://localhost:8080/"
        },
        "id": "YbZK-EXmcLKU",
        "outputId": "50a0ea77-788d-48c8-b1c8-f488c7601f28"
      },
      "execution_count": 73,
      "outputs": [
        {
          "output_type": "stream",
          "name": "stdout",
          "text": [
            "Hello, world!\n"
          ]
        }
      ]
    },
    {
      "cell_type": "code",
      "source": [
        "#open\n",
        "docs = \"text.txt\"\n",
        "\n",
        "with open(docs, \"w\") as file:\n",
        "    file.write(\"My name is Dares.\")\n",
        "\n",
        "with open(docs, \"r\") as file:\n",
        "    content = file.read()\n",
        "    print(content)\n"
      ],
      "metadata": {
        "colab": {
          "base_uri": "https://localhost:8080/"
        },
        "id": "d8jAPg0Pcvwr",
        "outputId": "a32f5b65-b695-49c9-c83d-dced36a0dff6"
      },
      "execution_count": 74,
      "outputs": [
        {
          "output_type": "stream",
          "name": "stdout",
          "text": [
            "My name is Dares.\n"
          ]
        }
      ]
    },
    {
      "cell_type": "code",
      "source": [
        "class Student:\n",
        "    def __init__(self, name, age):\n",
        "        self.name = name\n",
        "        self.age = age\n",
        "\n",
        "student1 = Student(\"Dares\", 20)\n",
        "print(vars(student1))\n"
      ],
      "metadata": {
        "colab": {
          "base_uri": "https://localhost:8080/"
        },
        "id": "t2zEh38AczJ_",
        "outputId": "799c0545-ccc8-4541-bb8a-5c421ee5bb87"
      },
      "execution_count": 76,
      "outputs": [
        {
          "output_type": "stream",
          "name": "stdout",
          "text": [
            "{'name': 'Dares', 'age': 20}\n"
          ]
        }
      ]
    }
  ]
}