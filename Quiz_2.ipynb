{
  "nbformat": 4,
  "nbformat_minor": 0,
  "metadata": {
    "colab": {
      "provenance": [],
      "authorship_tag": "ABX9TyNB2Jy8AsR3yuPhuiABq1s4",
      "include_colab_link": true
    },
    "kernelspec": {
      "name": "python3",
      "display_name": "Python 3"
    },
    "language_info": {
      "name": "python"
    }
  },
  "cells": [
    {
      "cell_type": "markdown",
      "metadata": {
        "id": "view-in-github",
        "colab_type": "text"
      },
      "source": [
        "<a href=\"https://colab.research.google.com/github/dkare001/dkare001-CSC221_Spring/blob/main/Quiz_2.ipynb\" target=\"_parent\"><img src=\"https://colab.research.google.com/assets/colab-badge.svg\" alt=\"Open In Colab\"/></a>"
      ]
    },
    {
      "cell_type": "code",
      "execution_count": null,
      "metadata": {
        "id": "JcLgoCsor2o5"
      },
      "outputs": [],
      "source": [
        "#def\n",
        "def age_calc(birth_year,current_year = 2024):\n",
        "  age = int(current_year) - int(birth_year)\n",
        "  print(f'In the year,{current_year}, you will be {age}. ')\n",
        "age_calc(2003)\n",
        "age_calc(2003, 2026)"
      ]
    },
    {
      "cell_type": "code",
      "source": [
        "#import\n",
        "import math\n",
        "\n",
        "pi_value = math.pi\n",
        "\n",
        "print(f\"Pi is {pi_value}\")"
      ],
      "metadata": {
        "colab": {
          "base_uri": "https://localhost:8080/"
        },
        "id": "gMW1jojHtE3E",
        "outputId": "b5979b9b-f9c3-436a-e5a6-871a0eaffb0e"
      },
      "execution_count": 4,
      "outputs": [
        {
          "output_type": "stream",
          "name": "stdout",
          "text": [
            "Pi is 3.141592653589793\n"
          ]
        }
      ]
    },
    {
      "cell_type": "code",
      "source": [
        "#Class\n",
        "class Cat:\n",
        "\n",
        "  def __init__(self, name):\n",
        "    self.name = name\n",
        "\n",
        "my_cat = Cat('James')\n",
        "\n",
        "print(f\"My cats name is {my_cat.name}.\")\n",
        "\n"
      ],
      "metadata": {
        "colab": {
          "base_uri": "https://localhost:8080/"
        },
        "id": "0d3KUynOuFa7",
        "outputId": "c4eee159-1d0a-4a17-9aa0-12d94d5ea33c"
      },
      "execution_count": 9,
      "outputs": [
        {
          "output_type": "stream",
          "name": "stdout",
          "text": [
            "My cats name is James.\n"
          ]
        }
      ]
    },
    {
      "cell_type": "code",
      "source": [
        "#for\n",
        "celebs = ['jaden smith','will smith','willow smith','jada smith']\n",
        "for celebs in celebs:\n",
        "  print(celebs)"
      ],
      "metadata": {
        "colab": {
          "base_uri": "https://localhost:8080/"
        },
        "id": "O4OPMCVLvkEq",
        "outputId": "80a44269-6224-4546-c09d-9b0794040cce"
      },
      "execution_count": 10,
      "outputs": [
        {
          "output_type": "stream",
          "name": "stdout",
          "text": [
            "jaden smith\n",
            "will smith\n",
            "willow smith\n",
            "jada smith\n"
          ]
        }
      ]
    },
    {
      "cell_type": "code",
      "source": [
        "#try\n",
        "try:\n",
        "    number = int(input(\"Enter a number: \"))\n",
        "    print(f\"Your number is {number}\")\n",
        "except ValueError:\n",
        "    print(\"That's not a valid number.\")\n"
      ],
      "metadata": {
        "colab": {
          "base_uri": "https://localhost:8080/"
        },
        "id": "55L6RGEpv_gW",
        "outputId": "e0115af4-c4c5-42ac-835d-53485c767939"
      },
      "execution_count": 14,
      "outputs": [
        {
          "output_type": "stream",
          "name": "stdout",
          "text": [
            "Enter a number: ouorb\n",
            "That's not a valid number.\n"
          ]
        }
      ]
    },
    {
      "cell_type": "code",
      "source": [
        "#except\n",
        "try:\n",
        "    name = input(\"Enter your name: \")\n",
        "    print(f\"Hello, {name}!\")\n",
        "except ValueError:\n",
        "    print(\"Invalid input.\")"
      ],
      "metadata": {
        "id": "hBRr5GD8x0-F"
      },
      "execution_count": null,
      "outputs": []
    },
    {
      "cell_type": "code",
      "source": [
        "#if\n",
        "age = int(input('How old are you? '))\n",
        "\n",
        "if age < 2:\n",
        "  print('You are a baby. ')"
      ],
      "metadata": {
        "colab": {
          "base_uri": "https://localhost:8080/"
        },
        "id": "Ctb7hsApyJkO",
        "outputId": "26210764-934e-40de-b681-7ec307507c37"
      },
      "execution_count": 15,
      "outputs": [
        {
          "output_type": "stream",
          "name": "stdout",
          "text": [
            "How old are you? 1\n",
            "You are a baby. \n"
          ]
        }
      ]
    },
    {
      "cell_type": "code",
      "source": [
        "#elif\n",
        "age = int(input('How old are you? '))\n",
        "\n",
        "if age < 2:\n",
        "  print('You are a baby. ')\n",
        "elif age >= 2 and age < 4:\n",
        "  print('You are a todler.')\n",
        "elif age >= 4 and age < 13:\n",
        "  print('You are a kid.')"
      ],
      "metadata": {
        "colab": {
          "base_uri": "https://localhost:8080/"
        },
        "id": "n8b1km9oycvu",
        "outputId": "09625a15-c696-4606-bab2-fbdf160fd9d4"
      },
      "execution_count": 16,
      "outputs": [
        {
          "output_type": "stream",
          "name": "stdout",
          "text": [
            "How old are you? 4\n",
            "You are a kid.\n"
          ]
        }
      ]
    },
    {
      "cell_type": "code",
      "source": [
        "#global\n",
        "students = 0\n",
        "\n",
        "def add_student(number):\n",
        "    global students\n",
        "    students += number\n",
        "\n",
        "print(\"Starting students:\", students)\n",
        "\n",
        "add_student(1)\n",
        "\n",
        "print(\"New students:\", students)"
      ],
      "metadata": {
        "colab": {
          "base_uri": "https://localhost:8080/"
        },
        "id": "fSFW2N80y0rH",
        "outputId": "0db0652a-d55e-43f0-a455-a998a0337f0f"
      },
      "execution_count": 19,
      "outputs": [
        {
          "output_type": "stream",
          "name": "stdout",
          "text": [
            "Startingstudents: 0\n",
            "New students: 1\n"
          ]
        }
      ]
    },
    {
      "cell_type": "code",
      "source": [
        "#return\n",
        "def interest(amount):\n",
        "    return amount * amount\n",
        "\n",
        "result = interest(5)\n",
        "\n",
        "print(\"the interst of a $50 loand is:\", result)"
      ],
      "metadata": {
        "colab": {
          "base_uri": "https://localhost:8080/"
        },
        "id": "X2-J5MAS0Nmq",
        "outputId": "c1aa7052-c55b-4c48-eb32-95fc806f4789"
      },
      "execution_count": 26,
      "outputs": [
        {
          "output_type": "stream",
          "name": "stdout",
          "text": [
            "the interst of a $50 loand is: 25\n"
          ]
        }
      ]
    },
    {
      "cell_type": "code",
      "source": [
        "#break\n",
        "numbers = [1, 2, 3, 4, 5]\n",
        "\n",
        "for num in numbers:\n",
        "    if num == 3:\n",
        "        break\n",
        "    print(num)\n"
      ],
      "metadata": {
        "colab": {
          "base_uri": "https://localhost:8080/"
        },
        "id": "kijshKHe1VEn",
        "outputId": "ca287408-3b0e-435e-e212-2f25878f1310"
      },
      "execution_count": 27,
      "outputs": [
        {
          "output_type": "stream",
          "name": "stdout",
          "text": [
            "1\n",
            "2\n"
          ]
        }
      ]
    },
    {
      "cell_type": "code",
      "source": [
        "#while\n",
        "number = 10\n",
        "\n",
        "while number > 0:\n",
        "    print(\"Number:\", number)\n",
        "    number -= 3"
      ],
      "metadata": {
        "colab": {
          "base_uri": "https://localhost:8080/"
        },
        "id": "qXLLIHDW1oCf",
        "outputId": "2a6583a6-6562-4504-d47e-6252d796edba"
      },
      "execution_count": 34,
      "outputs": [
        {
          "output_type": "stream",
          "name": "stdout",
          "text": [
            "Number: 10\n",
            "Number: 7\n",
            "Number: 4\n",
            "Number: 1\n"
          ]
        }
      ]
    },
    {
      "cell_type": "code",
      "source": [
        "#True\n",
        "done = True\n",
        "\n",
        "if done:\n",
        "    print(\"It is done\")\n",
        "else:\n",
        "    print(\"Not done.\")\n"
      ],
      "metadata": {
        "colab": {
          "base_uri": "https://localhost:8080/"
        },
        "id": "QEnPysGK2U-f",
        "outputId": "c2477d57-82c2-4a21-9356-522c93bc9f81"
      },
      "execution_count": 36,
      "outputs": [
        {
          "output_type": "stream",
          "name": "stdout",
          "text": [
            "It is done\n"
          ]
        }
      ]
    },
    {
      "cell_type": "code",
      "source": [
        "#False\n",
        "done = False\n",
        "\n",
        "if done:\n",
        "    print(\"It is done\")\n",
        "else:\n",
        "    print(\"Not done.\")\n"
      ],
      "metadata": {
        "id": "RovDJ5lc3mFL"
      },
      "execution_count": null,
      "outputs": []
    },
    {
      "cell_type": "code",
      "source": [
        "#None\n",
        "value = None\n",
        "\n",
        "if value is None:\n",
        "    print(\"The value is None.\")\n",
        "else:\n",
        "    print(\"The value is not None.\")\n"
      ],
      "metadata": {
        "colab": {
          "base_uri": "https://localhost:8080/"
        },
        "id": "IcQpmSvL3qQ0",
        "outputId": "745a7388-cf2b-451b-8908-92fbc66577eb"
      },
      "execution_count": 37,
      "outputs": [
        {
          "output_type": "stream",
          "name": "stdout",
          "text": [
            "The value is None.\n"
          ]
        }
      ]
    },
    {
      "cell_type": "code",
      "source": [
        "#and\n",
        "x = 6\n",
        "y = 12\n",
        "\n",
        "if x > 0 and y > 0:\n",
        "    print(\" x and y are positive.\")\n",
        "else:\n",
        "    print(\"x or y is not positive.\")\n"
      ],
      "metadata": {
        "colab": {
          "base_uri": "https://localhost:8080/"
        },
        "id": "pGtQN5ks4IAt",
        "outputId": "e86e9a63-408c-49ae-e63e-78c6102dcf75"
      },
      "execution_count": 39,
      "outputs": [
        {
          "output_type": "stream",
          "name": "stdout",
          "text": [
            " x and y are positive.\n"
          ]
        }
      ]
    },
    {
      "cell_type": "code",
      "source": [
        "#as\n",
        "import math as m\n",
        "\n",
        "pi_value = m.pi\n",
        "\n",
        "print(f\"Pi is {pi_value}\")"
      ],
      "metadata": {
        "colab": {
          "base_uri": "https://localhost:8080/"
        },
        "id": "ZQVPiUJP4kfb",
        "outputId": "e0d4497b-7461-442d-dfcd-ad0398b80f64"
      },
      "execution_count": 40,
      "outputs": [
        {
          "output_type": "stream",
          "name": "stdout",
          "text": [
            "Pi is 3.141592653589793\n"
          ]
        }
      ]
    },
    {
      "cell_type": "code",
      "source": [
        "# del\n",
        "def remove_student(names, students_left):\n",
        "    if students_left in names:\n",
        "        del names[names.index(students_left)]\n",
        "        print(students_left, \"Left.\")\n",
        "    else:\n",
        "        print(students_left, \"Not here.\")\n",
        "\n",
        "student_list = [\"Dares\", \"Ken\", \"Ben\", \"Mo\"]\n",
        "remove_student(student_list, \"Ken\")\n",
        "print(f\"Students remaining are {student_list}\")\n"
      ],
      "metadata": {
        "colab": {
          "base_uri": "https://localhost:8080/"
        },
        "id": "BG1K-xmo5-_k",
        "outputId": "fa9e62b3-dfab-491e-fb7b-cf1840c1bfa6"
      },
      "execution_count": 52,
      "outputs": [
        {
          "output_type": "stream",
          "name": "stdout",
          "text": [
            "Ken Left.\n",
            "Students remaining are ['Dares', 'Ben', 'Mo']\n"
          ]
        }
      ]
    },
    {
      "cell_type": "code",
      "source": [
        "# from\n",
        "from math import pi\n",
        "\n",
        "print(\"Pi is\", pi)\n"
      ],
      "metadata": {
        "colab": {
          "base_uri": "https://localhost:8080/"
        },
        "id": "-sTinF3P7hEf",
        "outputId": "3db52542-aaa4-488c-9898-49f69c776ed3"
      },
      "execution_count": 53,
      "outputs": [
        {
          "output_type": "stream",
          "name": "stdout",
          "text": [
            "Pi is 3.141592653589793\n"
          ]
        }
      ]
    },
    {
      "cell_type": "code",
      "source": [
        "#in\n",
        "class_students = [\"Dares\", \"Ben\", \"Kal\", \"Mo\"]\n",
        "\n",
        "student_name = \"Kal\"\n",
        "if student_name in class_students:\n",
        "    print(student_name, \"is present.\")\n",
        "else:\n",
        "    print(student_name, \"is not present.\")"
      ],
      "metadata": {
        "colab": {
          "base_uri": "https://localhost:8080/"
        },
        "id": "laB7-D0p82Cy",
        "outputId": "14ba6acb-8571-48ef-f93f-816d6f6c87d5"
      },
      "execution_count": 55,
      "outputs": [
        {
          "output_type": "stream",
          "name": "stdout",
          "text": [
            "Kal is present.\n"
          ]
        }
      ]
    },
    {
      "cell_type": "code",
      "source": [
        "# is\n",
        "x = [1, 2, 3]\n",
        "y = x\n",
        "\n",
        "if x is y:\n",
        "    print(\"x and y are  the same\")\n",
        "else:\n",
        "    print(\"x and y are different.\")\n"
      ],
      "metadata": {
        "colab": {
          "base_uri": "https://localhost:8080/"
        },
        "id": "TOjKkmKC9XTB",
        "outputId": "c14cf877-8d3b-44d7-e5ea-57e4084485fa"
      },
      "execution_count": 57,
      "outputs": [
        {
          "output_type": "stream",
          "name": "stdout",
          "text": [
            "x and y are  the same\n"
          ]
        }
      ]
    },
    {
      "cell_type": "code",
      "source": [
        "#yield\n",
        "def add_student(n):\n",
        "    for i in range(1, n + 1):\n",
        "        yield i ** 2\n",
        "\n",
        "for num in add_student(5):\n",
        "    print(f\"New total student {num}\")\n"
      ],
      "metadata": {
        "colab": {
          "base_uri": "https://localhost:8080/"
        },
        "id": "LH9Jxyq7-AC4",
        "outputId": "75fe56d6-075a-4a3a-ec15-3274a6cb624a"
      },
      "execution_count": 61,
      "outputs": [
        {
          "output_type": "stream",
          "name": "stdout",
          "text": [
            "New total student 1\n",
            "New total student 4\n",
            "New total student 9\n",
            "New total student 16\n",
            "New total student 25\n"
          ]
        }
      ]
    },
    {
      "cell_type": "code",
      "source": [
        "#with\n",
        "docs = \"text.txt\"\n",
        "\n",
        "with open(docs, \"w\") as file:\n",
        "    file.write(\"My name is Dares.\")\n",
        "\n",
        "with open(docs, \"r\") as file:\n",
        "    content = file.read()\n",
        "    print(content)\n",
        "\n"
      ],
      "metadata": {
        "colab": {
          "base_uri": "https://localhost:8080/"
        },
        "id": "PQhCWBqI_Vpu",
        "outputId": "e29d4625-ab04-40b7-d170-a16d7ebcfea0"
      },
      "execution_count": 70,
      "outputs": [
        {
          "output_type": "stream",
          "name": "stdout",
          "text": [
            "My name is Dares.\n"
          ]
        }
      ]
    },
    {
      "cell_type": "code",
      "source": [
        "#assert\n",
        "def divide(a, b):\n",
        "    assert b != 0, \"Division by zero is not allowed.\"\n",
        "    return a / b\n",
        "\n",
        "print(divide(10, 2))\n",
        "print(divide(5, 0))\n"
      ],
      "metadata": {
        "colab": {
          "base_uri": "https://localhost:8080/",
          "height": 309
        },
        "id": "V9KPJS-FAhIz",
        "outputId": "f89f2d7d-ac2f-499b-8fce-ae83ac6c1b32"
      },
      "execution_count": 73,
      "outputs": [
        {
          "output_type": "stream",
          "name": "stdout",
          "text": [
            "5.0\n"
          ]
        },
        {
          "output_type": "error",
          "ename": "AssertionError",
          "evalue": "Division by zero is not allowed.",
          "traceback": [
            "\u001b[0;31m---------------------------------------------------------------------------\u001b[0m",
            "\u001b[0;31mAssertionError\u001b[0m                            Traceback (most recent call last)",
            "\u001b[0;32m<ipython-input-73-b9c948c3c088>\u001b[0m in \u001b[0;36m<cell line: 7>\u001b[0;34m()\u001b[0m\n\u001b[1;32m      5\u001b[0m \u001b[0;34m\u001b[0m\u001b[0m\n\u001b[1;32m      6\u001b[0m \u001b[0mprint\u001b[0m\u001b[0;34m(\u001b[0m\u001b[0mdivide\u001b[0m\u001b[0;34m(\u001b[0m\u001b[0;36m10\u001b[0m\u001b[0;34m,\u001b[0m \u001b[0;36m2\u001b[0m\u001b[0;34m)\u001b[0m\u001b[0;34m)\u001b[0m\u001b[0;34m\u001b[0m\u001b[0;34m\u001b[0m\u001b[0m\n\u001b[0;32m----> 7\u001b[0;31m \u001b[0mprint\u001b[0m\u001b[0;34m(\u001b[0m\u001b[0mdivide\u001b[0m\u001b[0;34m(\u001b[0m\u001b[0;36m5\u001b[0m\u001b[0;34m,\u001b[0m \u001b[0;36m0\u001b[0m\u001b[0;34m)\u001b[0m\u001b[0;34m)\u001b[0m\u001b[0;34m\u001b[0m\u001b[0;34m\u001b[0m\u001b[0m\n\u001b[0m",
            "\u001b[0;32m<ipython-input-73-b9c948c3c088>\u001b[0m in \u001b[0;36mdivide\u001b[0;34m(a, b)\u001b[0m\n\u001b[1;32m      1\u001b[0m \u001b[0;31m#assert\u001b[0m\u001b[0;34m\u001b[0m\u001b[0;34m\u001b[0m\u001b[0m\n\u001b[1;32m      2\u001b[0m \u001b[0;32mdef\u001b[0m \u001b[0mdivide\u001b[0m\u001b[0;34m(\u001b[0m\u001b[0ma\u001b[0m\u001b[0;34m,\u001b[0m \u001b[0mb\u001b[0m\u001b[0;34m)\u001b[0m\u001b[0;34m:\u001b[0m\u001b[0;34m\u001b[0m\u001b[0;34m\u001b[0m\u001b[0m\n\u001b[0;32m----> 3\u001b[0;31m     \u001b[0;32massert\u001b[0m \u001b[0mb\u001b[0m \u001b[0;34m!=\u001b[0m \u001b[0;36m0\u001b[0m\u001b[0;34m,\u001b[0m \u001b[0;34m\"Division by zero is not allowed.\"\u001b[0m\u001b[0;34m\u001b[0m\u001b[0;34m\u001b[0m\u001b[0m\n\u001b[0m\u001b[1;32m      4\u001b[0m     \u001b[0;32mreturn\u001b[0m \u001b[0ma\u001b[0m \u001b[0;34m/\u001b[0m \u001b[0mb\u001b[0m\u001b[0;34m\u001b[0m\u001b[0;34m\u001b[0m\u001b[0m\n\u001b[1;32m      5\u001b[0m \u001b[0;34m\u001b[0m\u001b[0m\n",
            "\u001b[0;31mAssertionError\u001b[0m: Division by zero is not allowed."
          ]
        }
      ]
    },
    {
      "cell_type": "code",
      "source": [
        "# Async\n",
        "import asyncio\n",
        "\n",
        "async def greet():\n",
        "    print(\"Dares \")\n",
        "    await asyncio.sleep(1)\n",
        "    print(\"Kareem\")\n",
        "\n",
        "async def main():\n",
        "    await greet()\n",
        "\n",
        "await(main())\n"
      ],
      "metadata": {
        "colab": {
          "base_uri": "https://localhost:8080/"
        },
        "id": "m9FdJnrHBemG",
        "outputId": "274f802c-4068-4de0-b0c3-c5b1bb15e793"
      },
      "execution_count": 81,
      "outputs": [
        {
          "output_type": "stream",
          "name": "stdout",
          "text": [
            "Dares \n",
            "Kareem\n"
          ]
        }
      ]
    },
    {
      "cell_type": "code",
      "source": [
        "# Await\n",
        "import asyncio\n",
        "\n",
        "async def greet():\n",
        "    print(\"Dares \")\n",
        "    await asyncio.sleep(1)\n",
        "    print(\"Kareem\")\n",
        "\n",
        "async def main():\n",
        "    await greet()\n",
        "\n",
        "await(main())\n"
      ],
      "metadata": {
        "id": "GqBdV-uHCjEK"
      },
      "execution_count": null,
      "outputs": []
    },
    {
      "cell_type": "code",
      "source": [
        "# finally\n",
        "try:\n",
        "    file = open(\"example.txt\", \"r\")\n",
        "    content = file.read()\n",
        "    print(\"File content:\", content)\n",
        "except FileNotFoundError:\n",
        "    print(\"File not found.\")\n",
        "finally:\n",
        "    if 'file' in locals():\n",
        "        file.close()\n",
        "        print(\"File closed.\")\n",
        "\n",
        "print(\"Code continues.\")\n"
      ],
      "metadata": {
        "colab": {
          "base_uri": "https://localhost:8080/"
        },
        "id": "oMlg3s7rDDsx",
        "outputId": "b3ad2d58-ac3c-496e-d63a-6d2fbfe565cf"
      },
      "execution_count": 84,
      "outputs": [
        {
          "output_type": "stream",
          "name": "stdout",
          "text": [
            "File not found.\n",
            "File closed.\n",
            "Code continues.\n"
          ]
        }
      ]
    },
    {
      "cell_type": "code",
      "source": [
        "# raise\n",
        "def check_age(age):\n",
        "    if age < 0:\n",
        "        raise ValueError(\"What would you like to watch.\")\n",
        "    elif age < 18:\n",
        "        raise ValueError(\"You are too young.\")\n",
        "    else:\n",
        "        print(\"You can watch.\")\n",
        "\n",
        "try:\n",
        "    check_age(20)\n",
        "except ValueError as e:\n",
        "    print(\"Error:\", e)\n"
      ],
      "metadata": {
        "colab": {
          "base_uri": "https://localhost:8080/"
        },
        "id": "_EPSGRd7D2PO",
        "outputId": "01269b3e-af34-456f-f999-38aabc9f92ac"
      },
      "execution_count": 85,
      "outputs": [
        {
          "output_type": "stream",
          "name": "stdout",
          "text": [
            "You can watch.\n"
          ]
        }
      ]
    },
    {
      "cell_type": "code",
      "source": [
        "#nonlocal\n",
        "def counter():\n",
        "    count = 0\n",
        "\n",
        "    def increment():\n",
        "        nonlocal count\n",
        "        count += 2\n",
        "        return count\n",
        "    return increment\n",
        "\n",
        "counter_func = counter()\n",
        "\n",
        "for _ in range(5):\n",
        "    print(\"Count:\", counter_func())\n"
      ],
      "metadata": {
        "colab": {
          "base_uri": "https://localhost:8080/"
        },
        "id": "nEgMAi17Ed98",
        "outputId": "f706ec7a-d33d-4968-f7bd-b6dd7c9671b3"
      },
      "execution_count": 88,
      "outputs": [
        {
          "output_type": "stream",
          "name": "stdout",
          "text": [
            "Count: 2\n",
            "Count: 4\n",
            "Count: 6\n",
            "Count: 8\n",
            "Count: 10\n"
          ]
        }
      ]
    },
    {
      "cell_type": "code",
      "source": [
        "#lambda\n",
        "interest = lambda x: x ** 0.5\n",
        "\n",
        "rate = 5\n",
        "debt = interest(rate)\n",
        "\n",
        "print(\"The interst rate of a\", rate, \"dollar loan is\", debt)\n"
      ],
      "metadata": {
        "colab": {
          "base_uri": "https://localhost:8080/"
        },
        "id": "XZkJ3w5oFL8v",
        "outputId": "b49f5462-00d5-4522-e0e6-1ec89258376e"
      },
      "execution_count": 93,
      "outputs": [
        {
          "output_type": "stream",
          "name": "stdout",
          "text": [
            "The interst rate of a 5 dollar loan is 2.23606797749979\n"
          ]
        }
      ]
    },
    {
      "cell_type": "code",
      "source": [
        "#continue\n",
        "numbers = [1, 2, 3, 4, 5, 6, 7, 8, 9, 10]\n",
        "\n",
        "for num in numbers:\n",
        "    if num % 2 == 0:\n",
        "        continue\n",
        "    print(num)\n"
      ],
      "metadata": {
        "colab": {
          "base_uri": "https://localhost:8080/"
        },
        "id": "b-xQkYp9GSJg",
        "outputId": "6ddb78ba-e20b-45da-c20c-bd0485b5ffde"
      },
      "execution_count": 94,
      "outputs": [
        {
          "output_type": "stream",
          "name": "stdout",
          "text": [
            "1\n",
            "3\n",
            "5\n",
            "7\n",
            "9\n"
          ]
        }
      ]
    },
    {
      "cell_type": "code",
      "source": [
        "#not\n",
        "number = 5\n",
        "\n",
        "if not number == 10:\n",
        "    print(\"The number is not equal to 10.\")\n",
        "else:\n",
        "    print(\"The number is equal to 10.\")"
      ],
      "metadata": {
        "colab": {
          "base_uri": "https://localhost:8080/"
        },
        "id": "qyaDpmqEHU6l",
        "outputId": "ee02ffb0-733f-45f4-fd70-63f38f04f5fe"
      },
      "execution_count": 95,
      "outputs": [
        {
          "output_type": "stream",
          "name": "stdout",
          "text": [
            "The number is not equal to 10.\n"
          ]
        }
      ]
    },
    {
      "cell_type": "code",
      "source": [
        "#or\n",
        "age = 65\n",
        "\n",
        "if age >= 65 or (age >= 13 and age <= 19):\n",
        "    print(\"You are either a senior or a teenager.\")\n",
        "else:\n",
        "    print(\"You are neither a senior nor a teenager.\")\n"
      ],
      "metadata": {
        "colab": {
          "base_uri": "https://localhost:8080/"
        },
        "id": "FWuF7UpfI17v",
        "outputId": "b743a4c8-5bd1-489f-f109-a955ee298151"
      },
      "execution_count": 96,
      "outputs": [
        {
          "output_type": "stream",
          "name": "stdout",
          "text": [
            "You are either a senior or a teenager.\n"
          ]
        }
      ]
    },
    {
      "cell_type": "code",
      "source": [
        "#pass\n",
        "def function():\n",
        "    pass\n",
        "\n",
        "function()"
      ],
      "metadata": {
        "id": "EjbdjR3VJoWU"
      },
      "execution_count": 97,
      "outputs": []
    }
  ]
}