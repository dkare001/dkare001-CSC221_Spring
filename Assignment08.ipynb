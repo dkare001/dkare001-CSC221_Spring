{
  "nbformat": 4,
  "nbformat_minor": 0,
  "metadata": {
    "colab": {
      "provenance": [],
      "authorship_tag": "ABX9TyNC8a1Kl/Mosqd2pSDCOsxR",
      "include_colab_link": true
    },
    "kernelspec": {
      "name": "python3",
      "display_name": "Python 3"
    },
    "language_info": {
      "name": "python"
    }
  },
  "cells": [
    {
      "cell_type": "markdown",
      "metadata": {
        "id": "view-in-github",
        "colab_type": "text"
      },
      "source": [
        "<a href=\"https://colab.research.google.com/github/dkare001/dkare001-CSC221_Spring/blob/main/Assignment08.ipynb\" target=\"_parent\"><img src=\"https://colab.research.google.com/assets/colab-badge.svg\" alt=\"Open In Colab\"/></a>"
      ]
    },
    {
      "cell_type": "code",
      "execution_count": null,
      "metadata": {
        "id": "2NJuCxNHSVSc"
      },
      "outputs": [],
      "source": [
        "#Do TIY 8-2, 8-3, 8-4."
      ]
    },
    {
      "cell_type": "code",
      "source": [
        "from os import name\n",
        "#personl tryout\n",
        "\n",
        "def greet_users(a,b,c):\n",
        "  print(f\"Welcome {a.title()},{b.title()},{c.title()} \")\n",
        "\n",
        "greet_users('Dares','John','Joe')\n"
      ],
      "metadata": {
        "colab": {
          "base_uri": "https://localhost:8080/"
        },
        "id": "7tus3JuKSuwX",
        "outputId": "99bdb1df-affa-4d19-9c11-6cae91289ad3"
      },
      "execution_count": null,
      "outputs": [
        {
          "output_type": "stream",
          "name": "stdout",
          "text": [
            "Welcome Dares,John,Joe \n"
          ]
        }
      ]
    },
    {
      "cell_type": "code",
      "source": [
        "# 8-2 Favourite Book:\n",
        "def favorite_book(book_name):\n",
        "  print(f\"One of my favorite books is {book_name.title()}. \")\n",
        "\n",
        "favorite_book('Oliver Twist')"
      ],
      "metadata": {
        "colab": {
          "base_uri": "https://localhost:8080/"
        },
        "id": "33AWPoiYXjNf",
        "outputId": "b38953e0-d9f3-4461-8969-ba1c350aa984"
      },
      "execution_count": null,
      "outputs": [
        {
          "output_type": "stream",
          "name": "stdout",
          "text": [
            "One of my faorite books is Oliver Twist. \n"
          ]
        }
      ]
    },
    {
      "cell_type": "code",
      "source": [
        "#8-3 T-Shirt\n",
        "def make_shirt(size, text):\n",
        "  print(f\"This shirt size is a {size.title()} and has a {text.title()} print on it.\")\n",
        "\n",
        "make_shirt('large', 'I love python')\n",
        "make_shirt(size='small', text='I really love python!')\n",
        "\n"
      ],
      "metadata": {
        "id": "JNFpSxtTXRN7",
        "colab": {
          "base_uri": "https://localhost:8080/"
        },
        "outputId": "b7030e99-e0e7-4661-cddb-4c79f0da6e47"
      },
      "execution_count": null,
      "outputs": [
        {
          "output_type": "stream",
          "name": "stdout",
          "text": [
            "This shirt size is a Large and has a I Love Python print on it.\n",
            "This shirt size is a Small and has a I Really Love Python! print on it.\n"
          ]
        }
      ]
    },
    {
      "cell_type": "code",
      "source": [
        "#8-4 Large Shirts\n",
        "def make_shirt(text, size='large',):\n",
        "  print(f\"This shirt size is a {size.title()} and has a {text.title()} print on it.\")\n",
        "\n",
        "make_shirt('I love python',)\n",
        "make_shirt(size='medium', text='I really love python!')\n",
        "make_shirt(size='small',text='Random message')\n",
        "\n"
      ],
      "metadata": {
        "colab": {
          "base_uri": "https://localhost:8080/"
        },
        "id": "oPwXn7obe-BE",
        "outputId": "b3e3237f-2b1d-4cad-e461-27702d3676f8"
      },
      "execution_count": null,
      "outputs": [
        {
          "output_type": "stream",
          "name": "stdout",
          "text": [
            "This shirt size is a Large and has a I Love Python print on it.\n",
            "This shirt size is a Medium and has a I Really Love Python! print on it.\n",
            "This shirt size is a Small and has a Random Message print on it.\n"
          ]
        }
      ]
    },
    {
      "cell_type": "code",
      "source": [
        "#2\n",
        "\n",
        "def func8(a, b, c= 42):\n",
        "  print (f\"The sum is {int(a) + int(b) + int(c)}\")\n",
        "  print (f\"The product is {int(a) * int(b) * int(c)}\")\n",
        "  numbers = [a, b, c]\n",
        "  numbers.sort()\n",
        "  print(numbers)\n",
        "\n",
        "func8(382, 34,)\n"
      ],
      "metadata": {
        "colab": {
          "base_uri": "https://localhost:8080/"
        },
        "id": "xk0Ecih-gyyR",
        "outputId": "d380adba-3a56-4ed8-b305-023f7e3fceda"
      },
      "execution_count": 78,
      "outputs": [
        {
          "output_type": "stream",
          "name": "stdout",
          "text": [
            "The sum is 458\n",
            "The product is 545496\n",
            "[34, 42, 382]\n"
          ]
        }
      ]
    }
  ]
}