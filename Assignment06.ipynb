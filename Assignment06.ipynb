{
  "nbformat": 4,
  "nbformat_minor": 0,
  "metadata": {
    "colab": {
      "provenance": [],
      "authorship_tag": "ABX9TyNVZAtfAGAqeR4M9AvuxKpQ",
      "include_colab_link": true
    },
    "kernelspec": {
      "name": "python3",
      "display_name": "Python 3"
    },
    "language_info": {
      "name": "python"
    }
  },
  "cells": [
    {
      "cell_type": "markdown",
      "metadata": {
        "id": "view-in-github",
        "colab_type": "text"
      },
      "source": [
        "<a href=\"https://colab.research.google.com/github/dkare001/dkare001-CSC221_Spring/blob/main/Assignment06.ipynb\" target=\"_parent\"><img src=\"https://colab.research.google.com/assets/colab-badge.svg\" alt=\"Open In Colab\"/></a>"
      ]
    },
    {
      "cell_type": "code",
      "execution_count": null,
      "metadata": {
        "id": "KYreIas6qbI7"
      },
      "outputs": [],
      "source": [
        "#Self tryout:Try the Try It Yourself 5-1, 5-2, 5-3, 5-6, and 5-12.\n",
        "name = 'Dares'\n",
        "name.lower() == 'dares'\n"
      ]
    },
    {
      "cell_type": "code",
      "source": [
        "#5-1. Conditional Tests\n",
        "favorite_food = 'rice'\n",
        "print(f\"Is favorite food == rice? I predict true\")\n",
        "print(favorite_food == 'rice')\n",
        "\n",
        "name = 'Dares'\n",
        "print(f'Is name == Dares, I predict false because name has been changed to lowercase.')\n",
        "print (name.lower() == 'Dares')\n",
        "\n",
        "number = 18\n",
        "print(f\"Is {number} greater than 10? I predict True\")\n",
        "print(number > 10)\n",
        "\n",
        "value = 75\n",
        "print(f\"Is {value} less than or equal to 100? I predict True\")\n",
        "print(value <= 100)\n",
        "\n",
        "name1 = 'Dares'\n",
        "name2 = 'James'\n",
        "print(f\"Are '{name1}' and '{name2}' different? I predict True\")\n",
        "print(name1 != name2)\n",
        "\n",
        "text = 'hello'\n",
        "print(f\"Is '{text}' == to 'hello'? I predict True\")\n",
        "print(text == 'hello')\n",
        "\n",
        "drink = 'water'\n",
        "print(\"Is 'water'  to 'Water'? I predict False\")\n",
        "print(drink == 'Water')\n",
        "\n",
        "secretNum = 100\n",
        "print('Is secret number greater than 20? I predict false')\n",
        "print(secretNum < 20)\n",
        "\n",
        "classes = 'lab'\n",
        "print('Is classes.upper() == lab? I predict false')\n",
        "print(classes.upper() == 'Lab' )\n",
        "\n",
        "code = 'python'\n",
        "print('Is code.lower == Python?')\n",
        "print(code.lower == 'Python')\n"
      ],
      "metadata": {
        "colab": {
          "base_uri": "https://localhost:8080/"
        },
        "id": "Xsg_2PKGL6J7",
        "outputId": "d1e4ae29-05b4-4141-af24-ebf74deb1bcf"
      },
      "execution_count": 48,
      "outputs": [
        {
          "output_type": "stream",
          "name": "stdout",
          "text": [
            "Is favorite food == rice? I predict true\n",
            "True\n",
            "Is name == Dares, I predict false because name has been changed to lowercase.\n",
            "False\n",
            "Is 18 greater than 10? I predict True\n",
            "True\n",
            "Is 75 less than or equal to 100? I predict True\n",
            "True\n",
            "Are 'Alice' and 'Bob' different? I predict True\n",
            "True\n",
            "Is 'hello' == to 'hello'? I predict True\n",
            "True\n",
            "Is 'water'  to 'Water'? I predict False\n",
            "False\n",
            "Is secret number greater than 20? I predict false\n",
            "False\n",
            "Is classes.upper() == lab? I predict false\n",
            "False\n",
            "Is code.lower == Python?\n",
            "False\n"
          ]
        }
      ]
    },
    {
      "cell_type": "code",
      "source": [
        "#5-2. More Conditional Tests:\n",
        "code = 'python'\n",
        "print('Is code.lower == Python?')\n",
        "print(code.lower == 'Python')\n",
        "\n",
        "code = 'python'\n",
        "print('Is code.lower == python?')\n",
        "print(code.lower() == 'python')\n",
        "\n",
        "name1 = 'Dares'\n",
        "name2 = 'James'\n",
        "print(f\"Are '{name1}' and '{name2}' different? I predict True\")\n",
        "print(name1 != name2)\n",
        "\n",
        "name1 = 'Dares'\n",
        "name2 = 'James'\n",
        "print(f\"Are '{name1}' and '{name2}' different? I predict True\")\n",
        "print(name1 == name2)\n",
        "\n",
        "secretNum = 100\n",
        "print('Is secret number greater than 20? I predict false')\n",
        "print(secretNum < 20)\n",
        "\n",
        "secretNum = 100\n",
        "print('Is secret number greater than 20? I predict false')\n",
        "print(secretNum > 20)\n",
        "\n",
        "fruits = ['apple', 'banana', 'orange']\n",
        "print(f\"Is 'banana' in the list {fruits}? I predict True\")\n",
        "print('banana' in fruits)\n",
        "\n",
        "fruits = ['apple', 'banana', 'orange']\n",
        "print(f\"Is 'banana' in the list {fruits}? I predict True\")\n",
        "print('mango' in fruits)\n",
        "\n",
        "lightOn = True\n",
        "lightOff = False\n",
        "print('I lightOn = true and light off == false')\n",
        "print(lightOn == False and lightOff == False)\n",
        "\n",
        "lightOn = True\n",
        "lightOff = False\n",
        "print('I lightOn = true and light off == false')\n",
        "print(lightOn == False or lightOff == False)"
      ],
      "metadata": {
        "id": "dThBbu_-z5Ze",
        "colab": {
          "base_uri": "https://localhost:8080/"
        },
        "outputId": "0989a533-cc31-4bed-993e-9578e0c96ed7"
      },
      "execution_count": 62,
      "outputs": [
        {
          "output_type": "stream",
          "name": "stdout",
          "text": [
            "Is code.lower == Python?\n",
            "False\n",
            "Is code.lower == python?\n",
            "True\n",
            "Are 'Dares' and 'James' different? I predict True\n",
            "True\n",
            "Are 'Dares' and 'James' different? I predict True\n",
            "False\n",
            "Is secret number greater than 20? I predict false\n",
            "False\n",
            "Is secret number greater than 20? I predict false\n",
            "True\n",
            "Is 'banana' in the list ['apple', 'banana', 'orange']? I predict True\n",
            "True\n",
            "Is 'banana' in the list ['apple', 'banana', 'orange']? I predict True\n",
            "False\n",
            "I lightOn = true and light off == false\n",
            "False\n",
            "I lightOn = true and light off == false\n",
            "True\n"
          ]
        }
      ]
    },
    {
      "cell_type": "code",
      "source": [
        "#5-3. Alien Colors #1:\n",
        "alienColor = 'green'\n",
        "if alienColor == 'green':\n",
        "  print(f\"You just earned 5 points!\")\n",
        "\n",
        "alienColor = 'red'\n",
        "if alienColor == 'green':\n",
        "  print(f\"You just earned 5 points!\")\n"
      ],
      "metadata": {
        "colab": {
          "base_uri": "https://localhost:8080/"
        },
        "id": "0edz4gCvq_CK",
        "outputId": "6583997f-a8ae-4812-f5be-44d4c091f469"
      },
      "execution_count": 76,
      "outputs": [
        {
          "output_type": "stream",
          "name": "stdout",
          "text": [
            "You just earned 5 points!\n"
          ]
        }
      ]
    },
    {
      "cell_type": "code",
      "source": [
        "#5-6. Stages of Life:\n",
        "age = int(input('How old are you? '))\n",
        "\n",
        "if age < 2:\n",
        "  print('You are a baby. ')\n",
        "elif age >= 2 and age < 4:\n",
        "  print('You are a todler.')\n",
        "elif age >= 4 and age < 13:\n",
        "  print('You are a kid.')\n",
        "elif age >=13 and age < 20:\n",
        "  print('You are a teenager.')\n",
        "elif age >= 20 and age < 65:\n",
        "  print('You are an adult.')\n",
        "else:\n",
        "  print('You are and elder.')\n"
      ],
      "metadata": {
        "colab": {
          "base_uri": "https://localhost:8080/"
        },
        "id": "qrYvHspiZhdx",
        "outputId": "52efe14f-ad1b-4df7-9225-0f0d28998a3e"
      },
      "execution_count": 84,
      "outputs": [
        {
          "output_type": "stream",
          "name": "stdout",
          "text": [
            "How old are you? 88\n",
            "You are and elder.\n"
          ]
        }
      ]
    },
    {
      "cell_type": "code",
      "source": [
        "#5-13. Your Ideas: I am going to write a code that asks for the about of guest expected and lets you know if there will be enough accomodation for them\n",
        "'''Assigning the values based on the users input'''\n",
        "numberOfPeople = int(input('How many guests are you expecting?'))\n",
        "seatingCapacty = int(input('What is your seating capacity?'))\n",
        "\n",
        "'''using conditional statements to tell the user whether or not the can host a certain amount of people.'''\n",
        "if numberOfPeople < seatingCapacty:\n",
        "  print('You have enough space to host.')\n",
        "elif numberOfPeople == seatingCapacty:\n",
        "  print('This will be a tight squeeze for you guests.')\n",
        "else:\n",
        "  print('You do not have enough space to host. ')\n"
      ],
      "metadata": {
        "id": "wq0W3UXRwa-O"
      },
      "execution_count": null,
      "outputs": []
    },
    {
      "cell_type": "markdown",
      "source": [],
      "metadata": {
        "id": "dNCKfwU2z9DV"
      }
    }
  ]
}